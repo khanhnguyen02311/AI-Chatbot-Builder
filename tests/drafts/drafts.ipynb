{
 "cells": [
  {
   "cell_type": "code",
   "execution_count": 1,
   "outputs": [
    {
     "data": {
      "text/plain": "'/home/knguyen02311/Datadisk_link/Programming/Python/AIBots'"
     },
     "execution_count": 1,
     "metadata": {},
     "output_type": "execute_result"
    }
   ],
   "source": [
    "import sys\n",
    "\n",
    "sys.path[1]"
   ],
   "metadata": {
    "collapsed": false,
    "ExecuteTime": {
     "end_time": "2024-01-29T06:06:36.522878880Z",
     "start_time": "2024-01-29T06:06:36.490369010Z"
    }
   },
   "id": "9d26de3c869f41f9"
  },
  {
   "cell_type": "code",
   "execution_count": 2,
   "outputs": [
    {
     "name": "stdout",
     "output_type": "stream",
     "text": [
      "localhost\n"
     ]
    }
   ],
   "source": [
    "from os import environ\n",
    "from dotenv import load_dotenv\n",
    "\n",
    "load_dotenv(dotenv_path='/home/knguyen02311/Datadisk_link/Programming/Python/AIBots/backend/.env.dev', verbose=True)\n",
    "print(environ.get(\"POSTGRES_HOST\"))\n",
    "\n",
    "\n",
    "class EnvPostgres:\n",
    "    HOST = environ.get(\"POSTGRES_HOST\")\n",
    "    DB = environ.get(\"POSTGRES_DB\")\n",
    "    USER = environ.get(\"POSTGRES_USER\")\n",
    "    PASSWORD = environ.get(\"POSTGRES_PASSWORD\")\n",
    "    PORT = int(environ.get(\"POSTGRES_PORT\"))\n",
    "    URL = f\"postgresql+psycopg2://{USER}:{PASSWORD}@{HOST}:{PORT}/{DB}?sslmode=disable\"\n",
    "\n",
    "\n",
    "class EnvRedis:\n",
    "    HOST = environ.get(\"REDIS_HOST\")\n",
    "    PORT = int(environ.get(\"REDIS_PORT\"))\n",
    "    PASSWORD = environ.get(\"REDIS_PASSWORD\")\n",
    "    DB = int(environ.get(\"REDIS_DB\"))\n",
    "\n",
    "\n",
    "class EnvSQLAlchemy:\n",
    "    ECHO = True\n",
    "    AUTO_FLUSH = True  # flush after committing\n",
    "    AUTO_COMMIT = False\n",
    "    POOL_SIZE = 15\n",
    "    MAX_OVERFLOW = 10\n",
    "    POOL_PRE_PING = False\n"
   ],
   "metadata": {
    "collapsed": false,
    "ExecuteTime": {
     "end_time": "2024-01-29T06:06:36.935006253Z",
     "start_time": "2024-01-29T06:06:36.490609455Z"
    }
   },
   "id": "1cd4d9f80ad8e9bf"
  },
  {
   "cell_type": "code",
   "execution_count": 3,
   "id": "initial_id",
   "metadata": {
    "collapsed": true,
    "ExecuteTime": {
     "end_time": "2024-01-29T06:06:37.544013598Z",
     "start_time": "2024-01-29T06:06:36.914584043Z"
    }
   },
   "outputs": [],
   "source": [
    "import redis\n",
    "from sqlalchemy import create_engine\n",
    "from sqlalchemy.orm import sessionmaker\n",
    "\n",
    "# For PostgresSQL\n",
    "POSTGRES_ENGINE = create_engine(url=EnvPostgres.URL,\n",
    "                                echo=EnvSQLAlchemy.ECHO,\n",
    "                                pool_size=EnvSQLAlchemy.POOL_SIZE,\n",
    "                                max_overflow=EnvSQLAlchemy.MAX_OVERFLOW,\n",
    "                                pool_pre_ping=EnvSQLAlchemy.POOL_PRE_PING)\n",
    "\n",
    "POSTGRES_SESSION_FACTORY = sessionmaker(bind=POSTGRES_ENGINE,\n",
    "                                        autoflush=EnvSQLAlchemy.AUTO_FLUSH,\n",
    "                                        autocommit=EnvSQLAlchemy.AUTO_COMMIT)"
   ]
  },
  {
   "cell_type": "code",
   "execution_count": 4,
   "outputs": [],
   "source": [
    "from datetime import datetime\n",
    "from typing import Annotated, Optional, List\n",
    "from sqlalchemy import ForeignKey, types, Table, Column, Integer\n",
    "from sqlalchemy.orm import Mapped, mapped_column, relationship, DeclarativeBase, MappedAsDataclass\n",
    "\n",
    "str64 = Annotated[str, None]\n",
    "str256 = Annotated[str, None]\n",
    "\n",
    "int_PK = Annotated[int, mapped_column(primary_key=True)]\n",
    "smallint = Annotated[int, None]\n",
    "timestamp = Annotated[datetime, mapped_column(default=datetime.utcnow)]\n",
    "\n",
    "\n",
    "class Base(DeclarativeBase):\n",
    "    type_annotation_map = {\n",
    "        str64: types.VARCHAR(64),\n",
    "        str256: types.VARCHAR(256),\n",
    "        smallint: types.SMALLINT,\n",
    "        timestamp: types.TIMESTAMP,\n",
    "    }\n",
    "\n",
    "\n",
    "class Test(Base):\n",
    "    __tablename__ = \"test\"\n",
    "    id: Mapped[int_PK]\n",
    "    name: Mapped[str64]\n"
   ],
   "metadata": {
    "collapsed": false,
    "ExecuteTime": {
     "end_time": "2024-01-29T06:06:37.685794183Z",
     "start_time": "2024-01-29T06:06:37.545143566Z"
    }
   },
   "id": "27579f7443ffde8"
  },
  {
   "cell_type": "code",
   "execution_count": 5,
   "outputs": [
    {
     "name": "stdout",
     "output_type": "stream",
     "text": [
      "2024-01-29 13:06:38,215 INFO sqlalchemy.engine.Engine select pg_catalog.version()\n",
      "2024-01-29 13:06:38,216 INFO sqlalchemy.engine.Engine [raw sql] {}\n",
      "2024-01-29 13:06:38,218 INFO sqlalchemy.engine.Engine select current_schema()\n",
      "2024-01-29 13:06:38,219 INFO sqlalchemy.engine.Engine [raw sql] {}\n",
      "2024-01-29 13:06:38,220 INFO sqlalchemy.engine.Engine show standard_conforming_strings\n",
      "2024-01-29 13:06:38,221 INFO sqlalchemy.engine.Engine [raw sql] {}\n",
      "2024-01-29 13:06:38,223 INFO sqlalchemy.engine.Engine BEGIN (implicit)\n",
      "2024-01-29 13:06:38,229 INFO sqlalchemy.engine.Engine SELECT pg_catalog.pg_class.relname \n",
      "FROM pg_catalog.pg_class JOIN pg_catalog.pg_namespace ON pg_catalog.pg_namespace.oid = pg_catalog.pg_class.relnamespace \n",
      "WHERE pg_catalog.pg_class.relname = %(table_name)s AND pg_catalog.pg_class.relkind = ANY (ARRAY[%(param_1)s, %(param_2)s, %(param_3)s, %(param_4)s, %(param_5)s]) AND pg_catalog.pg_table_is_visible(pg_catalog.pg_class.oid) AND pg_catalog.pg_namespace.nspname != %(nspname_1)s\n",
      "2024-01-29 13:06:38,230 INFO sqlalchemy.engine.Engine [generated in 0.00144s] {'table_name': 'test', 'param_1': 'r', 'param_2': 'p', 'param_3': 'f', 'param_4': 'v', 'param_5': 'm', 'nspname_1': 'pg_catalog'}\n",
      "2024-01-29 13:06:38,233 INFO sqlalchemy.engine.Engine COMMIT\n"
     ]
    }
   ],
   "source": [
    "Base.metadata.create_all(POSTGRES_ENGINE)"
   ],
   "metadata": {
    "collapsed": false,
    "ExecuteTime": {
     "end_time": "2024-01-29T06:06:38.245050176Z",
     "start_time": "2024-01-29T06:06:38.206363049Z"
    }
   },
   "id": "c5ba10afe425227b"
  },
  {
   "cell_type": "code",
   "execution_count": 6,
   "outputs": [
    {
     "name": "stdout",
     "output_type": "stream",
     "text": [
      "2024-01-29 13:06:40,481 INFO sqlalchemy.engine.Engine BEGIN (implicit)\n",
      "2024-01-29 13:06:40,484 INFO sqlalchemy.engine.Engine INSERT INTO test (name) VALUES (%(name)s) RETURNING test.id\n",
      "2024-01-29 13:06:40,485 INFO sqlalchemy.engine.Engine [generated in 0.00118s] {'name': 'test'}\n",
      "2024-01-29 13:06:40,487 INFO sqlalchemy.engine.Engine COMMIT\n",
      "2024-01-29 13:06:40,559 INFO sqlalchemy.engine.Engine BEGIN (implicit)\n",
      "2024-01-29 13:06:40,562 INFO sqlalchemy.engine.Engine SELECT test.id AS test_id, test.name AS test_name \n",
      "FROM test \n",
      "WHERE test.id = %(pk_1)s\n",
      "2024-01-29 13:06:40,562 INFO sqlalchemy.engine.Engine [generated in 0.00070s] {'pk_1': 2}\n",
      "2\n",
      "2024-01-29 13:06:40,564 INFO sqlalchemy.engine.Engine ROLLBACK\n"
     ]
    }
   ],
   "source": [
    "with POSTGRES_SESSION_FACTORY() as session:\n",
    "    test = Test(name=\"test\")\n",
    "    session.add(test)\n",
    "    session.commit()\n",
    "    print(test.id)"
   ],
   "metadata": {
    "collapsed": false,
    "ExecuteTime": {
     "end_time": "2024-01-29T06:06:40.573440015Z",
     "start_time": "2024-01-29T06:06:40.483328641Z"
    }
   },
   "id": "b7e364ea9b3dd3c7"
  },
  {
   "cell_type": "code",
   "execution_count": 11,
   "outputs": [
    {
     "name": "stdout",
     "output_type": "stream",
     "text": [
      "2024-01-29 13:07:05,088 INFO sqlalchemy.engine.Engine BEGIN (implicit)\n",
      "2024-01-29 13:07:05,089 INFO sqlalchemy.engine.Engine UPDATE test SET name=%(name)s WHERE test.id = %(id_1)s RETURNING test.id, test.name\n",
      "2024-01-29 13:07:05,090 INFO sqlalchemy.engine.Engine [cached since 20.84s ago] {'name': 'test2', 'id_1': 1}\n",
      "2024-01-29 13:07:05,093 INFO sqlalchemy.engine.Engine COMMIT\n",
      "<__main__.Test object at 0x7f44913fde90>\n"
     ]
    }
   ],
   "source": [
    "from sqlalchemy import select, update, delete\n",
    "\n",
    "with POSTGRES_SESSION_FACTORY() as session:\n",
    "    updatequery = update(Test).returning(Test).where(Test.id == 1).values(name=\"test2\")\n",
    "    result = session.scalar(updatequery)\n",
    "    session.commit()\n",
    "    print(result)"
   ],
   "metadata": {
    "collapsed": false,
    "ExecuteTime": {
     "end_time": "2024-01-29T06:07:05.231670860Z",
     "start_time": "2024-01-29T06:07:05.090130784Z"
    }
   },
   "id": "8732a6e099412721"
  },
  {
   "cell_type": "code",
   "execution_count": null,
   "outputs": [],
   "source": [],
   "metadata": {
    "collapsed": false
   },
   "id": "f19f150854014d1"
  }
 ],
 "metadata": {
  "kernelspec": {
   "display_name": "Python 3",
   "language": "python",
   "name": "python3"
  },
  "language_info": {
   "codemirror_mode": {
    "name": "ipython",
    "version": 2
   },
   "file_extension": ".py",
   "mimetype": "text/x-python",
   "name": "python",
   "nbconvert_exporter": "python",
   "pygments_lexer": "ipython2",
   "version": "2.7.6"
  }
 },
 "nbformat": 4,
 "nbformat_minor": 5
}
