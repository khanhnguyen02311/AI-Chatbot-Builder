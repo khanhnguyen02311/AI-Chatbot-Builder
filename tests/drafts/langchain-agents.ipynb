{
 "cells": [
  {
   "cell_type": "code",
   "execution_count": 21,
   "id": "initial_id",
   "metadata": {
    "ExecuteTime": {
     "end_time": "2024-03-11T07:55:27.507736188Z",
     "start_time": "2024-03-11T07:55:27.462926752Z"
    },
    "collapsed": true
   },
   "outputs": [
    {
     "data": {
      "text/plain": [
       "True"
      ]
     },
     "execution_count": 21,
     "metadata": {},
     "output_type": "execute_result"
    }
   ],
   "source": [
    "import os\n",
    "import langchain\n",
    "from langchain_openai import ChatOpenAI\n",
    "from langchain.prompts import PromptTemplate\n",
    "from langchain.chains import LLMChain, ConversationChain\n",
    "from langchain.callbacks import get_openai_callback\n",
    "from langchain.memory import ConversationBufferWindowMemory, CombinedMemory, ConversationSummaryMemory, ChatMessageHistory\n",
    "from langchain import hub\n",
    "from langchain_core.messages.human import HumanMessage\n",
    "from langchain_core.messages.ai import AIMessage\n",
    "from langchain_community.utilities.google_search import GoogleSearchAPIWrapper\n",
    "from langchain_community.utilities.openweathermap import OpenWeatherMapAPIWrapper\n",
    "from langchain.agents import AgentExecutor, create_react_agent, Tool\n",
    "import langdetect\n",
    "from os import environ\n",
    "from dotenv import load_dotenv\n",
    "\n",
    "load_dotenv(dotenv_path='E:/Github_Repo/AI-Chatbot-Builder/backend/.env.dev', verbose=True)"
   ]
  },
  {
   "cell_type": "markdown",
   "id": "c8b730900859353b",
   "metadata": {
    "collapsed": false
   },
   "source": [
    "### Requirements:\n",
    "- Introduce local tourist attractions\n",
    "- Set up travel plans from user requirements (duration, location, number of visitors, ...)\n",
    "- Recommend places to visit, accommodations, food & beverage locations in surrounding areas"
   ]
  },
  {
   "cell_type": "code",
   "execution_count": 9,
   "id": "b17ae2afa9d09591",
   "metadata": {
    "ExecuteTime": {
     "end_time": "2024-03-11T07:17:20.212489001Z",
     "start_time": "2024-03-11T07:17:19.514932578Z"
    },
    "collapsed": false
   },
   "outputs": [
    {
     "name": "stdout",
     "output_type": "stream",
     "text": [
      "{'kind': 'customsearch#result', 'title': 'Must-Visit Attractions in Hanoi', 'htmlTitle': 'Must-<b>Visit Attractions in Hanoi</b>', 'link': 'https://www.traveloka.com/en-th/activities/find/must-visit-attractions-in-hanoi', 'displayLink': 'www.traveloka.com', 'snippet': 'Must-Visit Attractions in Hanoi · Thang Long Water Puppet Show Tickets: Skip The Line · Lotte World Aquarium Hanoi Ticket · Half Day Hanoi Foodie Evening Tour · The\\xa0...', 'htmlSnippet': 'Must-<b>Visit Attractions in Hanoi</b> &middot; Thang Long Water Puppet Show Tickets: Skip The Line &middot; Lotte World Aquarium Hanoi Ticket &middot; Half Day Hanoi Foodie Evening Tour &middot; The&nbsp;...', 'cacheId': 'AWlUhDZ_KM0J', 'formattedUrl': 'https://www.traveloka.com/en-th/activities/.../must-visit-attractions-in-hanoi', 'htmlFormattedUrl': 'https://www.traveloka.com/en-th/activities/.../must-visit-<b>attractions-in-hanoi</b>', 'pagemap': {'cse_thumbnail': [{'src': 'https://encrypted-tbn0.gstatic.com/images?q=tbn:ANd9GcSFDPQxPrk-wWP4HoK5kbRcjYPSgaGPrJXKcpJn-I3XG4JSynOdAIR3nQNU&s', 'width': '194', 'height': '146'}], 'metatags': [{'next-head-count': '23', 'theme-color': '#1BA0E2', 'apple-mobile-web-app-status-bar-style': '#FF6D6A', 'al:ios:app_name': 'Traveloka', 'viewport': 'width=device-width', 'og:title': 'Must-Visit Attractions in Hanoi', 'al:ios:url': 'traveloka://experience/find/$keyword?utm_source=organic&utm_link=%2Fen-th%2Factivities%2Ffind%2Fmust-visit-attractions-in-hanoi&adloc=en-th&utm_medium=activitiesStatic', 'og:description': 'For many travel destinations, Must-Visit Attractions in Hanoi collect all the must-vist places in Hanoi you should miss. Good deals are more than 60% off!', 'msapplication-navbutton-color': '#FF6D6A', 'al:ios:app_store_id': '898244857'}], 'cse_image': [{'src': 'https://ik.imagekit.io/tvlk/xpe-asset/AyJ40ZAo1DOyPyKLZ9c3RGQHTP2oT4ZXW+QmPVVkFQiXFSv42UaHGzSmaSzQ8DO5QIbWPZuF+VkYVRk6gh-Vg4ECbfuQRQ4pHjWJ5Rmbtkk=/9045542634394/The-Quintessence-of-Tonkin-Show-Tickets-298ea793-b5ca-45d4-9c3d-9febab9b2abe.png?_src=imagekit&tr=c-at_max,h-155.2,q-60,w-194'}]}}\n",
      "{'kind': 'customsearch#result', 'title': '7 Free Attractions to Visit in Hanoi For Budget Traveller', 'htmlTitle': '7 Free <b>Attractions</b> to <b>Visit</b> in <b>Hanoi</b> For Budget Traveller', 'link': 'https://www.traveloka.com/en-my/explore/destination/7-free-attractions-to-visit-in-hanoi-for-budget-traveller-trp/258733', 'displayLink': 'www.traveloka.com', 'snippet': '6 thg 8, 2023 ... Best Budget-Friendly Attractions to Visit in Vietnam · 1. Hanoi Night Market. Hanoi offers several free attractions in Hanoi that you should not\\xa0...', 'htmlSnippet': '6 thg 8, 2023 <b>...</b> Best Budget-Friendly <b>Attractions</b> to <b>Visit</b> in Vietnam &middot; 1. <b>Hanoi</b> Night Market. <b>Hanoi</b> offers several free <b>attractions in Hanoi</b> that you should not&nbsp;...', 'cacheId': 'K9LiArzNc0IJ', 'formattedUrl': 'https://www.traveloka.com/en-my/.../7...attractions-to...hanoi.../258733', 'htmlFormattedUrl': 'https://www.traveloka.com/en-my/.../7...<b>attractions</b>-to...<b>hanoi</b>.../258733', 'pagemap': {'cse_thumbnail': [{'src': 'https://encrypted-tbn0.gstatic.com/images?q=tbn:ANd9GcQnu2enSuSzWUT_GvLEL3ute6t4CizIbW7agWvITEA3xG1nfAOpMR87yeE&s', 'width': '275', 'height': '183'}], 'metatags': [{'og:image': 'https://ik.imagekit.io/tvlk/blog/2023/07/shutterstock_1677894604.jpg', 'twitter:card': 'summary', 'twitter:title': '7 Free Attractions to Visit in Hanoi For Budget\\xa0 Traveller', 'og:type': 'article', 'theme-color': '#1BA0E2', 'og:site_name': 'Traveloka', 'og:title': '7 Free Attractions to Visit in Hanoi For Budget\\xa0 Traveller', 'al:ios:url': 'traveloka://explore/destination/7-free-attractions-to-visit-in-hanoi-for-budget-traveller-trp/258733?adloc=en&utm_medium=exploreDestination&utm_source=organic', 'twitter:creator': '@traveloka', 'og:description': '7 Free Attractions to Visit in Hanoi For Budget\\xa0 Traveller', 'next-head-count': '21', 'twitter:site': '@traveloka', 'viewport': 'width=device-width', 'twitter:description': '7 Free Attractions to Visit in Hanoi For Budget\\xa0 Traveller', 'fb:admins': '1391950997779915', 'og:url': '/en-my/explore/destination/7-free-attractions-to-visit-in-hanoi-for-budget-traveller-trp/258733'}], 'cse_image': [{'src': 'https://ik.imagekit.io/tvlk/blog/2023/07/shutterstock_1677894604.jpg'}]}}\n",
      "{'kind': 'customsearch#result', 'title': 'Getting Around Hanoi, Vietnam', 'htmlTitle': 'Getting Around <b>Hanoi</b>, Vietnam', 'link': 'https://www.traveloka.com/en-en/explore/destination/pl-cg-getting-around-hanoi-vietnam/230839', 'displayLink': 'www.traveloka.com', 'snippet': '16 thg 5, 2023 ... Directly rent a car through Traveloka when you travel abroad to visit tourist attractions conveniently. Rent a Car with Traveloka. Rent a\\xa0...', 'htmlSnippet': '16 thg 5, 2023 <b>...</b> Directly rent a car through Traveloka when you travel abroad to <b>visit tourist attractions</b> conveniently. Rent a Car with Traveloka. Rent a&nbsp;...', 'cacheId': 'x5SSrqIGcfgJ', 'formattedUrl': 'https://www.traveloka.com/en-en/explore/destination/pl...hanoi.../230839', 'htmlFormattedUrl': 'https://www.traveloka.com/en-en/explore/destination/pl...<b>hanoi</b>.../230839', 'pagemap': {'cse_thumbnail': [{'src': 'https://encrypted-tbn0.gstatic.com/images?q=tbn:ANd9GcT2lQuWiMmMqeiko3vr2_HfFPs6DN90V5WWF1hkr3Jv95kUeP0P1YN5Ig&s', 'width': '402', 'height': '125'}], 'metatags': [{'og:image': 'https://ik.imagekit.io/tvlk/blog/2023/05/hanoi-vietnam_shutterstock_565108885-Copy-2.jpg', 'twitter:card': 'summary', 'twitter:title': 'Getting Around Hanoi, Vietnam', 'og:type': 'article', 'theme-color': '#1BA0E2', 'og:site_name': 'Traveloka', 'og:title': 'Getting Around Hanoi, Vietnam', 'title': 'Getting Around Hanoi, Vietnam', 'al:ios:url': 'traveloka://explore/destination/pl-cg-getting-around-hanoi-vietnam/230839?adloc=en&utm_medium=exploreDestination&utm_source=organic', 'twitter:creator': '@traveloka', 'og:description': \"Discover Hanoi's vibrant public transportation system and navigate the city with ease. From buses to cyclos, unravel the charm of Hanoi's diverse commuting options.\", 'next-head-count': '22', 'twitter:site': '@traveloka', 'viewport': 'width=device-width', 'twitter:description': \"Discover Hanoi's vibrant public transportation system and navigate the city with ease. From buses to cyclos, unravel the charm of Hanoi's diverse commuting options.\", 'fb:admins': '1391950997779915', 'og:url': '/en-en/explore/destination/pl-cg-getting-around-hanoi-vietnam/230839'}], 'cse_image': [{'src': 'https://ik.imagekit.io/tvlk/blog/2023/05/hanoi-vietnam_shutterstock_565108885-Copy-2.jpg'}]}}\n"
     ]
    }
   ],
   "source": [
    "from googleapiclient.discovery import build\n",
    "\n",
    "my_api_key = os.environ[\"GOOGLE_API_KEY\"]  #The API_KEY you acquired\n",
    "my_cse_id = os.environ[\"GOOGLE_CSE_ID\"]  #The search-engine-ID you created\n",
    "\n",
    "\n",
    "def google_search(search_term, api_key, cse_id, **kwargs):\n",
    "    service = build(\"customsearch\", \"v1\", developerKey=api_key) \n",
    "    res = service.cse().list(q=search_term, cx=cse_id, **kwargs).execute()\n",
    "    return res['items']\n",
    "\n",
    "\n",
    "results = google_search('tourist attractions in Hanoi', my_api_key, my_cse_id, num=3)\n",
    "for result in results:\n",
    "    print(result)"
   ]
  },
  {
   "cell_type": "code",
   "execution_count": 13,
   "id": "235911b9c5e1699d",
   "metadata": {
    "ExecuteTime": {
     "end_time": "2024-03-11T07:55:32.050234102Z",
     "start_time": "2024-03-11T07:55:32.044804401Z"
    },
    "collapsed": false
   },
   "outputs": [],
   "source": [
    "search = GoogleSearchAPIWrapper(k=5)\n",
    "#weather = OpenWeatherMapAPIWrapper(openweathermap_api_key=os.environ[\"OPENWEATHERMAP_API_KEY\"])\n",
    "\n",
    "tools = [\n",
    "    Tool(\n",
    "        name=\"google_search\",\n",
    "        description=\"Search Google for recent results.\",\n",
    "        func=search.run)\n",
    "    # Tool(\n",
    "    #     name=\"weather\",\n",
    "    #     description=\"Get weather information.\",\n",
    "    #     func=weather.run)\n",
    "        ]"
   ]
  },
  {
   "cell_type": "code",
   "execution_count": 14,
   "id": "4fbe122b7a4dfe2c",
   "metadata": {
    "ExecuteTime": {
     "end_time": "2024-03-11T07:17:21.172135241Z",
     "start_time": "2024-03-11T07:17:20.799127317Z"
    },
    "collapsed": false
   },
   "outputs": [
    {
     "data": {
      "text/plain": [
       "[{'title': '7 Free Attractions to Visit in Hanoi For Budget Traveller',\n",
       "  'link': 'https://www.traveloka.com/en-my/explore/destination/7-free-attractions-to-visit-in-hanoi-for-budget-traveller-trp/258733',\n",
       "  'snippet': '6 thg 8, 2023 ... Best Budget-Friendly Attractions to Visit in Vietnam · 1. Hanoi Night Market. Hanoi offers several free attractions in Hanoi that you should not\\xa0...'},\n",
       " {'title': 'Getting Around Hanoi, Vietnam',\n",
       "  'link': 'https://www.traveloka.com/en-en/explore/destination/pl-cg-getting-around-hanoi-vietnam/230839',\n",
       "  'snippet': '16 thg 5, 2023 ... Directly rent a car through Traveloka when you travel abroad to visit tourist attractions conveniently. Rent a Car with Traveloka. Rent a\\xa0...'},\n",
       " {'title': '10 Best Things to Do in Hanoi',\n",
       "  'link': 'https://www.traveloka.com/en-au/explore/activities/10-best-things-to-do-in-hanoi-trp/331570',\n",
       "  'snippet': \"8 thg 3, 2024 ... Want to experience the fun atmosphere in Hanoi? Visit Hoan Kiem Lake, a tourist destination in this bustling city. Located in Hanoi's Old\\xa0...\"}]"
      ]
     },
     "execution_count": 14,
     "metadata": {},
     "output_type": "execute_result"
    }
   ],
   "source": [
    "search.results(\"tourist locations in Hanoi\", 3)"
   ]
  },
  {
   "cell_type": "code",
   "execution_count": 17,
   "id": "4ff5247457bee3dc",
   "metadata": {
    "ExecuteTime": {
     "end_time": "2024-03-11T07:56:59.936718499Z",
     "start_time": "2024-03-11T07:56:59.738506943Z"
    },
    "collapsed": false
   },
   "outputs": [
    {
     "data": {
      "text/plain": [
       "'In Huế, VN, the current weather is as follows:\\nDetailed status: light intensity drizzle\\nWind speed: 4.12 m/s, direction: 270°\\nHumidity: 94%\\nTemperature: \\n  - Current: 21.06°C\\n  - High: 21.06°C\\n  - Low: 21.06°C\\n  - Feels like: 21.68°C\\nRain: {}\\nHeat index: None\\nCloud cover: 75%'"
      ]
     },
     "execution_count": 17,
     "metadata": {},
     "output_type": "execute_result"
    }
   ],
   "source": [
    "weather.run(\"Huế, VN\")"
   ]
  },
  {
   "cell_type": "code",
   "execution_count": 17,
   "id": "c0fa8e989a6ec5be",
   "metadata": {
    "ExecuteTime": {
     "end_time": "2024-03-11T07:56:34.922285693Z",
     "start_time": "2024-03-11T07:56:32.829502759Z"
    },
    "collapsed": false
   },
   "outputs": [
    {
     "data": {
      "text/plain": [
       "PromptTemplate(input_variables=['agent_scratchpad', 'input', 'tool_names', 'tools'], metadata={'lc_hub_owner': 'hwchase17', 'lc_hub_repo': 'react', 'lc_hub_commit_hash': 'd15fe3c426f1c4b3f37c9198853e4a86e20c425ca7f4752ec0c9b0e97ca7ea4d'}, template='Answer the following questions as best you can. You have access to the following tools:\\n\\n{tools}\\n\\nUse the following format:\\n\\nQuestion: the input question you must answer\\nThought: you should always think about what to do\\nAction: the action to take, should be one of [{tool_names}]\\nAction Input: the input to the action\\nObservation: the result of the action\\n... (this Thought/Action/Action Input/Observation can repeat N times)\\nThought: I now know the final answer\\nFinal Answer: the final answer to the original input question\\n\\nBegin!\\n\\nQuestion: {input}\\nThought:{agent_scratchpad}')"
      ]
     },
     "execution_count": 17,
     "metadata": {},
     "output_type": "execute_result"
    }
   ],
   "source": [
    "prompt = hub.pull(\"hwchase17/react\")\n",
    "prompt"
   ]
  },
  {
   "cell_type": "code",
   "execution_count": 18,
   "id": "c50aee58232b8a3",
   "metadata": {
    "ExecuteTime": {
     "end_time": "2024-03-11T08:27:35.014996831Z",
     "start_time": "2024-03-11T08:27:34.925024633Z"
    },
    "collapsed": false
   },
   "outputs": [],
   "source": [
    "llm = ChatOpenAI(\n",
    "    model_name=\"gpt-3.5-turbo\",\n",
    "    temperature=1,\n",
    "    openai_api_key=os.environ[\"OPENAI_API_KEY\"],\n",
    "    max_tokens=2048\n",
    ")\n",
    "agent = create_react_agent(llm=llm, tools=tools, prompt=prompt)\n",
    "agent_executor = AgentExecutor(agent=agent, tools=tools, verbose=True)"
   ]
  },
  {
   "cell_type": "code",
   "execution_count": 19,
   "id": "b0a61add7b6d320c",
   "metadata": {
    "ExecuteTime": {
     "end_time": "2024-03-11T07:12:23.030761949Z",
     "start_time": "2024-03-11T07:12:18.553466798Z"
    },
    "collapsed": false
   },
   "outputs": [
    {
     "name": "stdout",
     "output_type": "stream",
     "text": [
      "\n",
      "\n",
      "\u001b[1m> Entering new AgentExecutor chain...\u001b[0m\n",
      "\u001b[32;1m\u001b[1;3mI should search for popular dishes and budget-friendly restaurants in Huế.\n",
      "Action: google_search\n",
      "Action Input: popular dishes in Hue Vietnam\u001b[0m\u001b[36;1m\u001b[1;3m50A Hung Vuong, Phu Nhuan Ward, Hue City, Thua Thien Hue Province, Vietnam ... Savor your favorite dishes with special cuisines from Melia Vinpearl Hue ... Enjoy your foodie adventure by walking or riding a Vietnamese cyclo, a three-wheel bicycle taxi, driven by locals. Hue is popularly known for its royal cuisines ... ... Hue City, Thua Thien Hue Province, Vietnam ... Savor your favorite dishes with special cuisines from Carnosa Hotel Hue exclusively for you. ... Popular hotels in ... Savor your favorite dishes with special cuisines from Muong Thanh Holiday Hue Hotel exclusively for you. WiFi is available within public areas of the ... Savor your favorite dishes with special cuisines from My Home Homestay Hue exclusively for you. WiFi is available within public areas of the property to ...\u001b[0m\u001b[32;1m\u001b[1;3mI should also search for budget-friendly restaurants in Huế.\n",
      "Action: google_search\n",
      "Action Input: budget-friendly restaurants in Hue Vietnam\u001b[0m\u001b[36;1m\u001b[1;3mNice Hue Hotel is located in area / city Vinh Ninh Ward. ... Restaurant. 24-Hour Front Desk ... For you, travelers who wish to travel comfortably on a budget, Nice ... ... Hue City, surrounded by nearby delicacy restaurants and the night market. Highly recommended if you are considering a good place to stay at Hue. See more. 10 Nguyen Cong Tru Street, Phu Hoi Ward, Hue City, Thua Thien Hue Province, Vietnam, 531334. Nearby Places. Hue Night Walking Street. 398 m. Hue Railway Station. 57 Ben Nghe., Phu Hoi Ward, Hue City, Thua Thien Hue Province, Vietnam, 234 ... How much does it cost to stay at Cherish Hotel Hue? ... Dinner restaurant. •. Lunch ... 10 Nguyen Cong Tru Street, Phu Hoi Ward, Hue City, Thua Thien Hue Province, Vietnam, 531334. Nearby Places. Hue Night Walking Street. 398 m. Hue Railway Station.\u001b[0m\u001b[32;1m\u001b[1;3mBased on the search results, I can recommend popular dishes in Huế such as royal cuisines and local specialties like bun bo Hue. Some budget-friendly restaurants in Huế include Nice Hue Hotel and Cherish Hotel Hue. \n",
      "Final Answer: Some popular dishes in Huế are royal cuisines and bun bo Hue. Budget-friendly restaurants in Huế include Nice Hue Hotel and Cherish Hotel Hue.\u001b[0m\n",
      "\n",
      "\u001b[1m> Finished chain.\u001b[0m\n"
     ]
    },
    {
     "data": {
      "text/plain": [
       "{'input': 'Gợi ý cho tôi một vài món ăn, cũng như quán ăn ngon giá rẻ ở Huế',\n",
       " 'output': 'Some popular dishes in Huế are royal cuisines and bun bo Hue. Budget-friendly restaurants in Huế include Nice Hue Hotel and Cherish Hotel Hue.'}"
      ]
     },
     "execution_count": 19,
     "metadata": {},
     "output_type": "execute_result"
    }
   ],
   "source": [
    "agent_executor.invoke({\"input\": \"Gợi ý cho tôi một vài món ăn, cũng như quán ăn ngon giá rẻ ở Huế\"})"
   ]
  },
  {
   "cell_type": "code",
   "execution_count": 20,
   "id": "74ddbcb51bd27e7d",
   "metadata": {
    "ExecuteTime": {
     "end_time": "2024-03-11T07:56:45.142766962Z",
     "start_time": "2024-03-11T07:56:42.849247415Z"
    },
    "collapsed": false
   },
   "outputs": [
    {
     "name": "stdout",
     "output_type": "stream",
     "text": [
      "\n",
      "\n",
      "\u001b[1m> Entering new AgentExecutor chain...\u001b[0m\n",
      "\u001b[32;1m\u001b[1;3mI need to find out the weather forecast for Huế tomorrow to see if it's suitable for a day out.\n",
      "Action: google_search\n",
      "Action Input: \"Huế weather forecast tomorrow\"\u001b[0m\u001b[36;1m\u001b[1;3mOn the first night my bed and practically the whole room was dirty and humid, water heater switch was turned off, I showered with cold water in a 22°C weather. 28 thg 10, 2020 ... ... weather. Scope of application: Passengers departing and arriving at airports in Hue, Dong Hoi and Vinh with travel period from 20/10/2020 to ... Discover Ideas for Your Next Trip. Tours in Vietnam. Tours in Vietnam. Explore ... weather or traffic conditions. see more. General Information. Duration. 7 Hours ... What You'll Experience · Discover Ideas for Your Next Trip · Tour Itinerary · General Information · Frequently Asked Question · Other Activities. ... weather conditions ・Please ... Discover Ideas for Your Next Trip. Transports in Vietnam. Transports in Vietnam ... Scooter Rental in HueShuttle Bus from Hue to ...\u001b[0m\u001b[32;1m\u001b[1;3mI need to try a different search query to get the actual weather forecast for Huế tomorrow.\n",
      "Action: google_search\n",
      "Action Input: \"Huế weather forecast tomorrow\" + specific date\u001b[0m\u001b[36;1m\u001b[1;3mTraveling from Singapore to Cebu typically requires specific documents. ... Hence, check the weather forecast and plan your trip on a hot sunny day. ... Hue Flight ... Hence, check the weather forecast and plan your trip on a hot sunny day. Avoid peak season as the rate for flight and accommodation will rise. However, it ... Heavy rainfall will make most outdoor attractions and activities unavailable. Hence, check the weather forecast and plan your trip on a hot sunny day. Avoid ... Hence, check the weather forecast and plan your trip on a hot sunny day. Avoid peak season as the rate for flight and accommodation will rise. However, it ... Traveling from Singapore to Caticlan - Boracay typically requires specific documents. ... Hence, check the weather forecast and plan your trip on a hot sunny day.\u001b[0m\u001b[32;1m\u001b[1;3mThe search results are not providing the specific weather forecast for Huế tomorrow. I should try a different source for weather information.\n",
      "Action: google_search\n",
      "Action Input: \"Huế weather forecast tomorrow\" + reputable weather website\u001b[0m\u001b[36;1m\u001b[1;3m... page. How early should I get to the ... When is the best time to buy airline tickets? ... Hence, check the weather forecast and plan your trip on a hot sunny day. When is the best time to buy airline tickets? ... Hence, check the weather forecast and plan your trip on a hot sunny day. ... Hue Flight from Singapore to Cebu ... Heavy rainfall will make most outdoor attractions and activities unavailable. Hence, check the weather forecast and plan your trip on a hot sunny day. Avoid ... ... page. How early should I get to the ... When is the best time to buy airline tickets? ... Hence, check the weather forecast and plan your trip on a hot sunny day. If you want to enjoy your vacation in one of the best islands in the Philippines, you can visit Caticlan-Boracay. ... Hence, check the weather forecast and plan ...\u001b[0m\u001b[32;1m\u001b[1;3mI should check a reliable weather website directly for the forecast for Huế tomorrow.\n",
      "Action: google_search\n",
      "Action Input: \"Huế weather forecast tomorrow\" + reliable weather website\u001b[0m\u001b[36;1m\u001b[1;3m... page. How early should I get to the ... When is the best time to buy airline tickets? ... Hence, check the weather forecast and plan your trip on a hot sunny day. When is the best time to buy airline tickets? ... Hence, check the weather forecast and plan your trip on a hot sunny day. ... Hue Flight from Singapore to Cebu ... Heavy rainfall will make most outdoor attractions and activities unavailable. Hence, check the weather forecast and plan your trip on a hot sunny day. Avoid ... ... page. How early should I get to the ... When is the best time to buy airline tickets? ... Hence, check the weather forecast and plan your trip on a hot sunny day. If you want to enjoy your vacation in one of the best islands in the Philippines, you can visit Caticlan-Boracay. ... Hence, check the weather forecast and plan ...\u001b[0m\u001b[32;1m\u001b[1;3mI should directly visit a reliable weather website to get the weather forecast for Huế tomorrow.\n",
      "Action: google_search\n",
      "Action Input: \"Huế weather forecast tomorrow\" + specific reliable weather website\u001b[0m\u001b[36;1m\u001b[1;3m... page. How ... Traveling from Singapore to Cebu typically requires specific documents. ... Hence, check the weather forecast and plan your trip on a hot sunny day. Hence, check the weather forecast and plan your trip on a hot sunny day. Avoid peak season as the rate for flight and accommodation will rise. However, it ... Heavy rainfall will make most outdoor attractions and activities unavailable. Hence, check the weather forecast and plan your trip on a hot sunny day. Avoid ... ... page. How ... Traveling from Singapore to Guilin typically requires specific documents. ... Hence, check the weather forecast and plan your trip on a hot sunny day. Traveling from Singapore to Caticlan - Boracay typically requires specific documents. ... Hence, check the weather forecast and plan your trip on a hot sunny day.\u001b[0m\u001b[32;1m\u001b[1;3mThe search results are still not providing the specific weather forecast for Huế tomorrow. I should go directly to a reliable weather website to get the information I need.\n",
      "Action: google_search\n",
      "Action Input: \"Huế weather forecast tomorrow\" + specific reliable weather website URL\u001b[0m\u001b[36;1m\u001b[1;3mNo good Google Search Result was found\u001b[0m\u001b[32;1m\u001b[1;3mI was unable to find the specific weather forecast for Huế tomorrow. I should check a reputable weather website directly for the information I need.\n",
      "Final Answer: The weather forecast for Huế tomorrow is not available through the search results, but I should check a reputable weather website directly for accurate information.\u001b[0m\n",
      "\n",
      "\u001b[1m> Finished chain.\u001b[0m\n"
     ]
    },
    {
     "data": {
      "text/plain": [
       "{'input': 'Ngày mai liệu có phù hợp để đi chơi ở Huế không ?',\n",
       " 'output': 'The weather forecast for Huế tomorrow is not available through the search results, but I should check a reputable weather website directly for accurate information.'}"
      ]
     },
     "execution_count": 20,
     "metadata": {},
     "output_type": "execute_result"
    }
   ],
   "source": [
    "agent_executor.invoke({\"input\": \"Ngày mai liệu có phù hợp để đi chơi ở Huế không ?\"})"
   ]
  },
  {
   "cell_type": "code",
   "execution_count": null,
   "id": "f68ce230d87e0a17",
   "metadata": {
    "collapsed": false
   },
   "outputs": [],
   "source": [
    "# import requests\n",
    "# \n",
    "# \n",
    "# def weather_search(location: str, search_type: str, date: str | None = None):\n",
    "#     response = requests.get(f\"https://api.openweathermap.org/data/3.0/onecall/day_summary?lat={lat}&lon={lon}&date={date}&appid={API key}\")\n",
    "#     print(response.json())"
   ]
  }
 ],
 "metadata": {
  "kernelspec": {
   "display_name": "Python 3",
   "language": "python",
   "name": "python3"
  },
  "language_info": {
   "codemirror_mode": {
    "name": "ipython",
    "version": 3
   },
   "file_extension": ".py",
   "mimetype": "text/x-python",
   "name": "python",
   "nbconvert_exporter": "python",
   "pygments_lexer": "ipython3",
   "version": "3.12.2"
  }
 },
 "nbformat": 4,
 "nbformat_minor": 5
}
