{
 "cells": [
  {
   "cell_type": "code",
   "execution_count": 7,
   "id": "initial_id",
   "metadata": {
    "collapsed": true,
    "ExecuteTime": {
     "end_time": "2024-03-11T07:55:27.507736188Z",
     "start_time": "2024-03-11T07:55:27.462926752Z"
    }
   },
   "outputs": [
    {
     "data": {
      "text/plain": "True"
     },
     "execution_count": 7,
     "metadata": {},
     "output_type": "execute_result"
    }
   ],
   "source": [
    "import os\n",
    "import langchain\n",
    "from langchain_openai import ChatOpenAI\n",
    "from langchain.prompts import PromptTemplate\n",
    "from langchain.chains import LLMChain, ConversationChain\n",
    "from langchain.callbacks import get_openai_callback\n",
    "from langchain.memory import ConversationBufferWindowMemory, CombinedMemory, ConversationSummaryMemory, ChatMessageHistory\n",
    "from langchain import hub\n",
    "from langchain_core.messages.human import HumanMessage\n",
    "from langchain_core.messages.ai import AIMessage\n",
    "from langchain_community.utilities.google_search import GoogleSearchAPIWrapper\n",
    "from langchain_community.utilities.openweathermap import OpenWeatherMapAPIWrapper\n",
    "from langchain.agents import AgentExecutor, create_react_agent, Tool\n",
    "import langdetect\n",
    "from os import environ\n",
    "from dotenv import load_dotenv\n",
    "\n",
    "load_dotenv(dotenv_path='/home/knguyen02311/Datadisk_link/Programming/Python/AIBots/backend/.env.dev', verbose=True)"
   ]
  },
  {
   "cell_type": "markdown",
   "source": [
    "### Requirements:\n",
    "- Introduce local tourist attractions\n",
    "- Set up travel plans from user requirements (duration, location, number of visitors, ...)\n",
    "- Recommend places to visit, accommodations, food & beverage locations in surrounding areas"
   ],
   "metadata": {
    "collapsed": false
   },
   "id": "c8b730900859353b"
  },
  {
   "cell_type": "code",
   "execution_count": 3,
   "outputs": [
    {
     "name": "stdout",
     "output_type": "stream",
     "text": [
      "{'kind': 'customsearch#result', 'title': 'THE 15 BEST Things to Do in Hanoi - 2024 (with Photos) - Tripadvisor', 'htmlTitle': 'THE 15 BEST Things to Do in <b>Hanoi</b> - 2024 (with Photos) - Tripadvisor', 'link': 'https://www.tripadvisor.com/Attractions-g293924-Activities-Hanoi.html', 'displayLink': 'www.tripadvisor.com', 'snippet': 'Top Attractions in Hanoi · 1. Old Quarter · 28,578. Neighborhoods · 2. Lake of the Restored Sword (Hoan Kiem Lake) · 13,664. Bodies of Water · 3. Temple of\\xa0...', 'htmlSnippet': 'Top <b>Attractions in Hanoi</b> &middot; 1. Old Quarter &middot; 28,578. Neighborhoods &middot; 2. Lake of the Restored Sword (Hoan Kiem Lake) &middot; 13,664. Bodies of Water &middot; 3. Temple of&nbsp;...', 'formattedUrl': 'https://www.tripadvisor.com/Attractions-g293924-Activities-Hanoi.html', 'htmlFormattedUrl': 'https://www.tripadvisor.com/<b>Attractions</b>-g293924-Activities-<b>Hanoi</b>.html', 'pagemap': {'cse_thumbnail': [{'src': 'https://encrypted-tbn3.gstatic.com/images?q=tbn:ANd9GcTVwy8JYNdGg3xjCSFcmqIl-TcMlQEWaTQyon0WQ97c76CDlGUlhlKkjkw', 'width': '275', 'height': '183'}], 'metatags': [{'twitter:app:url:iphone': 'tripadvisor://www.tripadvisor.com/Attractions-g293924-Activities-Hanoi.html?m=33762', 'apple-itunes-app': 'app-id=284876795, app-argument=https://www.tripadvisor.com/Attractions-g293924-Activities-Hanoi.html', 'og:image': 'https://media-cdn.tripadvisor.com/media/photo-m/1280/1b/33/f7/12/caption.jpg', 'theme-color': '#34e0a1', 'og:type': 'website', 'og:image:width': '1280', 'og:site_name': 'Tripadvisor', 'al:ios:app_name': 'TripAdvisor', 'twitter:app:url:ipad': 'tripadvisor://www.tripadvisor.com/Attractions-g293924-Activities-Hanoi.html?m=33762', 'og:title': 'THE 15 BEST Things to Do in Hanoi - 2024 (with Photos) - Tripadvisor', 'twitter:app:id:ipad': '284876795', 'og:image:height': '853', 'twitter:app:id:iphone': '284876795', 'al:ios:url': 'tripadvisor://www.tripadvisor.com/Attractions-g293924-Activities-Hanoi.html?m=33762', 'fb:pages': '5863091683', 'og:description': \"Things to Do in Hanoi, Vietnam: See Tripadvisor's 1,185,422 traveler reviews and photos of Hanoi tourist attractions. Find what to do today, this weekend, or in March. We have reviews of the best places to see in Hanoi. Visit top-rated & must-see attractions.\", 'al:ios:app_store_id': '284876795', 'viewport': 'width=device-width, initial-scale=1.0, viewport-fit=cover', 'og:locale': 'en-US', 'og:url': 'https://www.tripadvisor.com/Attractions-g293924-Activities-Hanoi.html', 'format-detection': 'telephone=no'}], 'cse_image': [{'src': 'https://media-cdn.tripadvisor.com/media/photo-m/1280/1b/33/f7/12/caption.jpg'}]}}\n",
      "{'kind': 'customsearch#result', 'title': '16 Top-Rated Tourist Attractions in Hanoi | PlanetWare', 'htmlTitle': '16 Top-Rated <b>Tourist Attractions in Hanoi</b> | PlanetWare', 'link': 'https://www.planetware.com/vietnam/hanoi-vie-1-9.htm', 'displayLink': 'www.planetware.com', 'snippet': 'Dec 27, 2023 ... 16 Top-Rated Tourist Attractions in Hanoi · 1. Explore Hanoi Old Town Quarter · 2. Stroll around Hoan Kiem Lake · 3. Admire the Temple of\\xa0...', 'htmlSnippet': 'Dec 27, 2023 <b>...</b> 16 Top-Rated <b>Tourist Attractions in Hanoi</b> &middot; 1. Explore Hanoi Old Town Quarter &middot; 2. Stroll around Hoan Kiem Lake &middot; 3. Admire the Temple of&nbsp;...', 'cacheId': '3M4YFSX1VzMJ', 'formattedUrl': 'https://www.planetware.com/vietnam/hanoi-vie-1-9.htm', 'htmlFormattedUrl': 'https://www.planetware.com/vietnam/<b>hanoi</b>-vie-1-9.htm', 'pagemap': {'cse_thumbnail': [{'src': 'https://encrypted-tbn1.gstatic.com/images?q=tbn:ANd9GcTdENE37sLO2TS0ka988eEAai6mnNu-J1vdaiRCGpIBTM3cPN0X6hzMmb56', 'width': '275', 'height': '183'}], 'metatags': [{'og:image': 'https://www.planetware.com/photos-large/VIE/vietnam-hanoi-old-town-quarter-ornaments.jpg', 'og:type': 'article', 'viewport': 'width=device-width, initial-scale=1', 'og:title': '16 Top-Rated Tourist Attractions in Hanoi', 'og:url': 'https://www.planetware.com/vietnam/hanoi-vie-1-9.htm'}], 'cse_image': [{'src': 'https://www.planetware.com/photos-large/VIE/vietnam-hanoi-old-town-quarter-ornaments.jpg'}]}}\n",
      "{'kind': 'customsearch#result', 'title': '11 must-see attractions in Ha Noi | Vietnam Tourism', 'htmlTitle': '11 must-see <b>attractions</b> in Ha Noi | Vietnam <b>Tourism</b>', 'link': 'https://vietnam.travel/things-to-do/11-must-see-attractions-ha-noi', 'displayLink': 'vietnam.travel', 'snippet': \"Hanoi Opera House ... The Opera House is at the edge of Hanoi's French Quarter, where a few colonial buildings have been well preserved. Constructed at the turn\\xa0...\", 'htmlSnippet': '<b>Hanoi</b> Opera House ... The Opera House is at the edge of <b>Hanoi&#39;s</b> French Quarter, where a few colonial buildings have been well preserved. Constructed at the turn&nbsp;...', 'cacheId': 't1GIswsRU1MJ', 'formattedUrl': 'https://vietnam.travel/things-to-do/11-must-see-attractions-ha-noi', 'htmlFormattedUrl': 'https://vietnam.travel/things-to-do/11-must-see-<b>attractions</b>-ha-noi', 'pagemap': {'cse_thumbnail': [{'src': 'https://encrypted-tbn1.gstatic.com/images?q=tbn:ANd9GcQPHu6IxVA_a0fV6HUnlRzPHJnuvx4BaRWv_63t06JfxafPclwL9lFyBYA5', 'width': '300', 'height': '168'}], 'metatags': [{'p:domain_verify': '9e4f7f43bb4ac0c6d936d8aba95a3b7b', 'og:image': 'https://vietnam.travel/sites/default/files/2018-11/Attractions%20Hanoi%20Vietnam%20Tourism%20Banner.jpg', 'og:type': 'Article Detail', 'og:site_name': 'Vietnam Tourism', 'handheldfriendly': 'true', 'viewport': 'width=device-width, initial-scale=1, maximum-scale=1, minimum-scale=1, user-scalable=no', 'og:title': '11 must-see attractions in Ha Noi', 'mobileoptimized': 'width', 'title': '11 must-see attractions in Ha Noi | Vietnam Tourism', 'og:url': 'https://vietnam.travel/things-to-do/11-must-see-attractions-ha-noi', 'facebook-domain-verification': 'o13hc3zob238p8k5rfvl54p9d4bsqn'}], 'cse_image': [{'src': 'https://vietnam.travel/sites/default/files/2018-11/Attractions%20Hanoi%20Vietnam%20Tourism%20Banner.jpg'}]}}\n"
     ]
    }
   ],
   "source": [
    "from googleapiclient.discovery import build\n",
    "\n",
    "my_api_key = os.environ[\"GOOGLE_API_KEY\"]  #The API_KEY you acquired\n",
    "my_cse_id = os.environ[\"GOOGLE_CSE_ID\"]  #The search-engine-ID you created\n",
    "\n",
    "\n",
    "def google_search(search_term, api_key, cse_id, **kwargs):\n",
    "    service = build(\"customsearch\", \"v1\", developerKey=api_key)\n",
    "    res = service.cse().list(q=search_term, cx=cse_id, **kwargs).execute()\n",
    "    return res['items']\n",
    "\n",
    "\n",
    "results = google_search('tourist attractions in Hanoi', my_api_key, my_cse_id, num=3)\n",
    "for result in results:\n",
    "    print(result)"
   ],
   "metadata": {
    "collapsed": false,
    "ExecuteTime": {
     "end_time": "2024-03-11T07:17:20.212489001Z",
     "start_time": "2024-03-11T07:17:19.514932578Z"
    }
   },
   "id": "b17ae2afa9d09591"
  },
  {
   "cell_type": "code",
   "execution_count": 8,
   "outputs": [],
   "source": [
    "search = GoogleSearchAPIWrapper(k=5)\n",
    "weather = OpenWeatherMapAPIWrapper(openweathermap_api_key=os.environ[\"OPENWEATHERMAP_API_KEY\"])\n",
    "\n",
    "tools = [\n",
    "    Tool(\n",
    "        name=\"google_search\",\n",
    "        description=\"Search Google for recent results.\",\n",
    "        func=search.run),\n",
    "    Tool(\n",
    "        name=\"weather\",\n",
    "        description=\"Get weather information.\",\n",
    "        func=weather.run)]"
   ],
   "metadata": {
    "collapsed": false,
    "ExecuteTime": {
     "end_time": "2024-03-11T07:55:32.050234102Z",
     "start_time": "2024-03-11T07:55:32.044804401Z"
    }
   },
   "id": "235911b9c5e1699d"
  },
  {
   "cell_type": "code",
   "execution_count": 5,
   "outputs": [
    {
     "data": {
      "text/plain": "[{'title': 'THE 15 BEST Things to Do in Hanoi - 2024 (with Photos) - Tripadvisor',\n  'link': 'https://www.tripadvisor.com/Attractions-g293924-Activities-Hanoi.html',\n  'snippet': 'Top Attractions in Hanoi · 1. Old Quarter · 28,578. Neighborhoods · 2. Lake of the Restored Sword (Hoan Kiem Lake) · 13,664. Bodies of Water · 3. Temple of\\xa0...'},\n {'title': '16 Top-Rated Tourist Attractions in Hanoi | PlanetWare',\n  'link': 'https://www.planetware.com/vietnam/hanoi-vie-1-9.htm',\n  'snippet': 'Dec 27, 2023 ... 16 Top-Rated Tourist Attractions in Hanoi · 1. Explore Hanoi Old Town Quarter · 2. Stroll around Hoan Kiem Lake · 3. Admire the Temple of\\xa0...'},\n {'title': '11 must-see attractions in Ha Noi | Vietnam Tourism',\n  'link': 'https://vietnam.travel/things-to-do/11-must-see-attractions-ha-noi',\n  'snippet': \"Saint Joseph's Cathedral ... The cafes by the Cathedral are a perfect spot to watch the bustle of Hanoi. Saint Joseph's Cathedral (also known as Hanoi Cathedral),\\xa0...\"}]"
     },
     "execution_count": 5,
     "metadata": {},
     "output_type": "execute_result"
    }
   ],
   "source": [
    "search.results(\"tourist locations in Hanoi\", 3)"
   ],
   "metadata": {
    "collapsed": false,
    "ExecuteTime": {
     "end_time": "2024-03-11T07:17:21.172135241Z",
     "start_time": "2024-03-11T07:17:20.799127317Z"
    }
   },
   "id": "4fbe122b7a4dfe2c"
  },
  {
   "cell_type": "code",
   "execution_count": 17,
   "outputs": [
    {
     "data": {
      "text/plain": "'In Huế, VN, the current weather is as follows:\\nDetailed status: light intensity drizzle\\nWind speed: 4.12 m/s, direction: 270°\\nHumidity: 94%\\nTemperature: \\n  - Current: 21.06°C\\n  - High: 21.06°C\\n  - Low: 21.06°C\\n  - Feels like: 21.68°C\\nRain: {}\\nHeat index: None\\nCloud cover: 75%'"
     },
     "execution_count": 17,
     "metadata": {},
     "output_type": "execute_result"
    }
   ],
   "source": [
    "weather.run(\"Huế, VN\")"
   ],
   "metadata": {
    "collapsed": false,
    "ExecuteTime": {
     "end_time": "2024-03-11T07:56:59.936718499Z",
     "start_time": "2024-03-11T07:56:59.738506943Z"
    }
   },
   "id": "4ff5247457bee3dc"
  },
  {
   "cell_type": "code",
   "execution_count": 13,
   "outputs": [
    {
     "data": {
      "text/plain": "PromptTemplate(input_variables=['agent_scratchpad', 'input', 'tool_names', 'tools'], template='Answer the following questions as best you can. You have access to the following tools:\\n\\n{tools}\\n\\nUse the following format:\\n\\nQuestion: the input question you must answer\\nThought: you should always think about what to do\\nAction: the action to take, should be one of [{tool_names}]\\nAction Input: the input to the action\\nObservation: the result of the action\\n... (this Thought/Action/Action Input/Observation can repeat N times)\\nThought: I now know the final answer\\nFinal Answer: the final answer to the original input question\\n\\nBegin!\\n\\nQuestion: {input}\\nThought:{agent_scratchpad}')"
     },
     "execution_count": 13,
     "metadata": {},
     "output_type": "execute_result"
    }
   ],
   "source": [
    "prompt = hub.pull(\"hwchase17/react\")\n",
    "prompt"
   ],
   "metadata": {
    "collapsed": false,
    "ExecuteTime": {
     "end_time": "2024-03-11T07:56:34.922285693Z",
     "start_time": "2024-03-11T07:56:32.829502759Z"
    }
   },
   "id": "c0fa8e989a6ec5be"
  },
  {
   "cell_type": "code",
   "execution_count": 18,
   "outputs": [
    {
     "data": {
      "text/plain": "[]"
     },
     "execution_count": 18,
     "metadata": {},
     "output_type": "execute_result"
    }
   ],
   "source": [
    "llm = ChatOpenAI(\n",
    "    model_name=\"gpt-3.5-turbo\",\n",
    "    temperature=1,\n",
    "    openai_api_key=os.environ[\"OPENAI_API_KEY\"],\n",
    "    max_tokens=2048\n",
    ")\n",
    "agent = create_react_agent(llm=llm, tools=tools, prompt=prompt)\n",
    "agent_executor = AgentExecutor(agent=agent, tools=tools, verbose=True)"
   ],
   "metadata": {
    "collapsed": false,
    "ExecuteTime": {
     "end_time": "2024-03-11T08:27:35.014996831Z",
     "start_time": "2024-03-11T08:27:34.925024633Z"
    }
   },
   "id": "c50aee58232b8a3"
  },
  {
   "cell_type": "code",
   "execution_count": 6,
   "outputs": [
    {
     "name": "stdout",
     "output_type": "stream",
     "text": [
      "\n",
      "\n",
      "\u001B[1m> Entering new AgentExecutor chain...\u001B[0m\n",
      "\u001B[32;1m\u001B[1;3mI should search for popular local dishes and affordable restaurants in Hue.\n",
      "Action: google_search\n",
      "Action Input: popular local dishes in Hue\u001B[0m\u001B[36;1m\u001B[1;3mFamous Food Locals Love to Eat in Hue · Bun bo hue · Nem lui · Com hen · Banh khoai · Banh beo · Banh loc goi · Bun thit nuong · Va tron salad; Che ... 3.2. Best food in Hue? Com Hen (Clam Rice) ... Calm Rice is a combination of rice, clams and local spices. This simple dish is one of the best Hue foods that can ... More videos on YouTube · 1.The number one Hue specialty dish is Hue beef noodle soup which called BÚN BÒ HUẾ in Vietnamese · 2.The second on top of Hue ... Dec 9, 2013 ... Favorite eats in Hue · Banh Nam · Banh Beo · Bun Bo Hue · Banh Khoai (Hue pancakes) · Banh Ram It! · Have you tried Hue food? What's your favorite ... Oct 6, 2020 ... Clam rice or clam noodles is an iconic Hue food. A simple dish with humble origins, it started as a way to use up leftover rice. It generally ...\u001B[0m\u001B[32;1m\u001B[1;3mI should now search for affordable restaurants in Hue.\n",
      "Action: google_search\n",
      "Action Input: affordable restaurants in Hue\u001B[0m\u001B[36;1m\u001B[1;3mResults 1 - 30 of 173 ... Hue Cheap Eats · 1. Zucca Restaurant. (2,154). Closed Now. Italian, Pizza$ · 2. Nina's Cafe - Eatery. (2,452). Open Now · 3. Nook Eatery. ( ... Best Restaurants in Hue · 1. Hanh Restaurant (Quán Hạnh Huế): · 2. Hang Me Me Restaurant: · 3. Lien Hoa Vegetarian Restaurant: · 4. Bun Bo Hue (Hue Noodle Soup ... Results 1 - 21 of 21 ... Amazing inexpensive Japanese restaurant in Hue. Just enough bang for your... Great food and staff very welcoming. Dec 18, 2023 ... Hue Food Specialties · Banh Khoai – Hue crispy stuffed rice pancake · Nem Lui – Hue grilled pork skewers with lemongrass · Banh Uot Thit Nuong – ... 4. Grilled corns and baked sweet potatoes are cheap and healthy Hue foods that you should never missed. · 5. Che Hue (Hue sweet soup) is the most popular dessert ...\u001B[0m\u001B[32;1m\u001B[1;3mI now know some popular local dishes and affordable restaurants in Hue.\n",
      "Final Answer: Popular local dishes in Hue include bun bo Hue and clam rice, while some affordable restaurants in Hue are Zucca Restaurant and Hanh Restaurant.\u001B[0m\n",
      "\n",
      "\u001B[1m> Finished chain.\u001B[0m\n",
      "Tokens Used: 0\n",
      "\tPrompt Tokens: 0\n",
      "\tCompletion Tokens: 0\n",
      "Successful Requests: 0\n",
      "Total Cost (USD): $0.0\n"
     ]
    }
   ],
   "source": [
    "agent_executor.invoke({\"input\": \"Gợi ý cho tôi một vài món ăn, cũng như quán ăn ngon giá rẻ ở Huế\"})"
   ],
   "metadata": {
    "collapsed": false,
    "ExecuteTime": {
     "end_time": "2024-03-11T07:12:23.030761949Z",
     "start_time": "2024-03-11T07:12:18.553466798Z"
    }
   },
   "id": "b0a61add7b6d320c"
  },
  {
   "cell_type": "code",
   "execution_count": 16,
   "outputs": [
    {
     "name": "stdout",
     "output_type": "stream",
     "text": [
      "\n",
      "\n",
      "\u001B[1m> Entering new AgentExecutor chain...\u001B[0m\n",
      "\u001B[32;1m\u001B[1;3mI should check the weather in Huế for tomorrow to see if it's suitable for outdoor activities.\n",
      "Action: weather\n",
      "Action Input: Huế tomorrow\u001B[0m"
     ]
    },
    {
     "ename": "NotFoundError",
     "evalue": "Unable to find the resource",
     "output_type": "error",
     "traceback": [
      "\u001B[0;31m---------------------------------------------------------------------------\u001B[0m",
      "\u001B[0;31mNotFoundError\u001B[0m                             Traceback (most recent call last)",
      "Cell \u001B[0;32mIn[16], line 1\u001B[0m\n\u001B[0;32m----> 1\u001B[0m \u001B[43magent_executor\u001B[49m\u001B[38;5;241;43m.\u001B[39;49m\u001B[43minvoke\u001B[49m\u001B[43m(\u001B[49m\u001B[43m{\u001B[49m\u001B[38;5;124;43m\"\u001B[39;49m\u001B[38;5;124;43minput\u001B[39;49m\u001B[38;5;124;43m\"\u001B[39;49m\u001B[43m:\u001B[49m\u001B[43m \u001B[49m\u001B[38;5;124;43m\"\u001B[39;49m\u001B[38;5;124;43mNgày mai liệu có phù hợp để đi chơi ở Huế không ?\u001B[39;49m\u001B[38;5;124;43m\"\u001B[39;49m\u001B[43m}\u001B[49m\u001B[43m)\u001B[49m\n",
      "File \u001B[0;32m~/miniconda3/envs/backendenv/lib/python3.11/site-packages/langchain/chains/base.py:162\u001B[0m, in \u001B[0;36mChain.invoke\u001B[0;34m(self, input, config, **kwargs)\u001B[0m\n\u001B[1;32m    160\u001B[0m \u001B[38;5;28;01mexcept\u001B[39;00m \u001B[38;5;167;01mBaseException\u001B[39;00m \u001B[38;5;28;01mas\u001B[39;00m e:\n\u001B[1;32m    161\u001B[0m     run_manager\u001B[38;5;241m.\u001B[39mon_chain_error(e)\n\u001B[0;32m--> 162\u001B[0m     \u001B[38;5;28;01mraise\u001B[39;00m e\n\u001B[1;32m    163\u001B[0m run_manager\u001B[38;5;241m.\u001B[39mon_chain_end(outputs)\n\u001B[1;32m    164\u001B[0m final_outputs: Dict[\u001B[38;5;28mstr\u001B[39m, Any] \u001B[38;5;241m=\u001B[39m \u001B[38;5;28mself\u001B[39m\u001B[38;5;241m.\u001B[39mprep_outputs(\n\u001B[1;32m    165\u001B[0m     inputs, outputs, return_only_outputs\n\u001B[1;32m    166\u001B[0m )\n",
      "File \u001B[0;32m~/miniconda3/envs/backendenv/lib/python3.11/site-packages/langchain/chains/base.py:156\u001B[0m, in \u001B[0;36mChain.invoke\u001B[0;34m(self, input, config, **kwargs)\u001B[0m\n\u001B[1;32m    149\u001B[0m run_manager \u001B[38;5;241m=\u001B[39m callback_manager\u001B[38;5;241m.\u001B[39mon_chain_start(\n\u001B[1;32m    150\u001B[0m     dumpd(\u001B[38;5;28mself\u001B[39m),\n\u001B[1;32m    151\u001B[0m     inputs,\n\u001B[1;32m    152\u001B[0m     name\u001B[38;5;241m=\u001B[39mrun_name,\n\u001B[1;32m    153\u001B[0m )\n\u001B[1;32m    154\u001B[0m \u001B[38;5;28;01mtry\u001B[39;00m:\n\u001B[1;32m    155\u001B[0m     outputs \u001B[38;5;241m=\u001B[39m (\n\u001B[0;32m--> 156\u001B[0m         \u001B[38;5;28;43mself\u001B[39;49m\u001B[38;5;241;43m.\u001B[39;49m\u001B[43m_call\u001B[49m\u001B[43m(\u001B[49m\u001B[43minputs\u001B[49m\u001B[43m,\u001B[49m\u001B[43m \u001B[49m\u001B[43mrun_manager\u001B[49m\u001B[38;5;241;43m=\u001B[39;49m\u001B[43mrun_manager\u001B[49m\u001B[43m)\u001B[49m\n\u001B[1;32m    157\u001B[0m         \u001B[38;5;28;01mif\u001B[39;00m new_arg_supported\n\u001B[1;32m    158\u001B[0m         \u001B[38;5;28;01melse\u001B[39;00m \u001B[38;5;28mself\u001B[39m\u001B[38;5;241m.\u001B[39m_call(inputs)\n\u001B[1;32m    159\u001B[0m     )\n\u001B[1;32m    160\u001B[0m \u001B[38;5;28;01mexcept\u001B[39;00m \u001B[38;5;167;01mBaseException\u001B[39;00m \u001B[38;5;28;01mas\u001B[39;00m e:\n\u001B[1;32m    161\u001B[0m     run_manager\u001B[38;5;241m.\u001B[39mon_chain_error(e)\n",
      "File \u001B[0;32m~/miniconda3/envs/backendenv/lib/python3.11/site-packages/langchain/agents/agent.py:1376\u001B[0m, in \u001B[0;36mAgentExecutor._call\u001B[0;34m(self, inputs, run_manager)\u001B[0m\n\u001B[1;32m   1374\u001B[0m \u001B[38;5;66;03m# We now enter the agent loop (until it returns something).\u001B[39;00m\n\u001B[1;32m   1375\u001B[0m \u001B[38;5;28;01mwhile\u001B[39;00m \u001B[38;5;28mself\u001B[39m\u001B[38;5;241m.\u001B[39m_should_continue(iterations, time_elapsed):\n\u001B[0;32m-> 1376\u001B[0m     next_step_output \u001B[38;5;241m=\u001B[39m \u001B[38;5;28;43mself\u001B[39;49m\u001B[38;5;241;43m.\u001B[39;49m\u001B[43m_take_next_step\u001B[49m\u001B[43m(\u001B[49m\n\u001B[1;32m   1377\u001B[0m \u001B[43m        \u001B[49m\u001B[43mname_to_tool_map\u001B[49m\u001B[43m,\u001B[49m\n\u001B[1;32m   1378\u001B[0m \u001B[43m        \u001B[49m\u001B[43mcolor_mapping\u001B[49m\u001B[43m,\u001B[49m\n\u001B[1;32m   1379\u001B[0m \u001B[43m        \u001B[49m\u001B[43minputs\u001B[49m\u001B[43m,\u001B[49m\n\u001B[1;32m   1380\u001B[0m \u001B[43m        \u001B[49m\u001B[43mintermediate_steps\u001B[49m\u001B[43m,\u001B[49m\n\u001B[1;32m   1381\u001B[0m \u001B[43m        \u001B[49m\u001B[43mrun_manager\u001B[49m\u001B[38;5;241;43m=\u001B[39;49m\u001B[43mrun_manager\u001B[49m\u001B[43m,\u001B[49m\n\u001B[1;32m   1382\u001B[0m \u001B[43m    \u001B[49m\u001B[43m)\u001B[49m\n\u001B[1;32m   1383\u001B[0m     \u001B[38;5;28;01mif\u001B[39;00m \u001B[38;5;28misinstance\u001B[39m(next_step_output, AgentFinish):\n\u001B[1;32m   1384\u001B[0m         \u001B[38;5;28;01mreturn\u001B[39;00m \u001B[38;5;28mself\u001B[39m\u001B[38;5;241m.\u001B[39m_return(\n\u001B[1;32m   1385\u001B[0m             next_step_output, intermediate_steps, run_manager\u001B[38;5;241m=\u001B[39mrun_manager\n\u001B[1;32m   1386\u001B[0m         )\n",
      "File \u001B[0;32m~/miniconda3/envs/backendenv/lib/python3.11/site-packages/langchain/agents/agent.py:1102\u001B[0m, in \u001B[0;36mAgentExecutor._take_next_step\u001B[0;34m(self, name_to_tool_map, color_mapping, inputs, intermediate_steps, run_manager)\u001B[0m\n\u001B[1;32m   1093\u001B[0m \u001B[38;5;28;01mdef\u001B[39;00m \u001B[38;5;21m_take_next_step\u001B[39m(\n\u001B[1;32m   1094\u001B[0m     \u001B[38;5;28mself\u001B[39m,\n\u001B[1;32m   1095\u001B[0m     name_to_tool_map: Dict[\u001B[38;5;28mstr\u001B[39m, BaseTool],\n\u001B[0;32m   (...)\u001B[0m\n\u001B[1;32m   1099\u001B[0m     run_manager: Optional[CallbackManagerForChainRun] \u001B[38;5;241m=\u001B[39m \u001B[38;5;28;01mNone\u001B[39;00m,\n\u001B[1;32m   1100\u001B[0m ) \u001B[38;5;241m-\u001B[39m\u001B[38;5;241m>\u001B[39m Union[AgentFinish, List[Tuple[AgentAction, \u001B[38;5;28mstr\u001B[39m]]]:\n\u001B[1;32m   1101\u001B[0m     \u001B[38;5;28;01mreturn\u001B[39;00m \u001B[38;5;28mself\u001B[39m\u001B[38;5;241m.\u001B[39m_consume_next_step(\n\u001B[0;32m-> 1102\u001B[0m         \u001B[43m[\u001B[49m\n\u001B[1;32m   1103\u001B[0m \u001B[43m            \u001B[49m\u001B[43ma\u001B[49m\n\u001B[1;32m   1104\u001B[0m \u001B[43m            \u001B[49m\u001B[38;5;28;43;01mfor\u001B[39;49;00m\u001B[43m \u001B[49m\u001B[43ma\u001B[49m\u001B[43m \u001B[49m\u001B[38;5;129;43;01min\u001B[39;49;00m\u001B[43m \u001B[49m\u001B[38;5;28;43mself\u001B[39;49m\u001B[38;5;241;43m.\u001B[39;49m\u001B[43m_iter_next_step\u001B[49m\u001B[43m(\u001B[49m\n\u001B[1;32m   1105\u001B[0m \u001B[43m                \u001B[49m\u001B[43mname_to_tool_map\u001B[49m\u001B[43m,\u001B[49m\n\u001B[1;32m   1106\u001B[0m \u001B[43m                \u001B[49m\u001B[43mcolor_mapping\u001B[49m\u001B[43m,\u001B[49m\n\u001B[1;32m   1107\u001B[0m \u001B[43m                \u001B[49m\u001B[43minputs\u001B[49m\u001B[43m,\u001B[49m\n\u001B[1;32m   1108\u001B[0m \u001B[43m                \u001B[49m\u001B[43mintermediate_steps\u001B[49m\u001B[43m,\u001B[49m\n\u001B[1;32m   1109\u001B[0m \u001B[43m                \u001B[49m\u001B[43mrun_manager\u001B[49m\u001B[43m,\u001B[49m\n\u001B[1;32m   1110\u001B[0m \u001B[43m            \u001B[49m\u001B[43m)\u001B[49m\n\u001B[1;32m   1111\u001B[0m \u001B[43m        \u001B[49m\u001B[43m]\u001B[49m\n\u001B[1;32m   1112\u001B[0m     )\n",
      "File \u001B[0;32m~/miniconda3/envs/backendenv/lib/python3.11/site-packages/langchain/agents/agent.py:1102\u001B[0m, in \u001B[0;36m<listcomp>\u001B[0;34m(.0)\u001B[0m\n\u001B[1;32m   1093\u001B[0m \u001B[38;5;28;01mdef\u001B[39;00m \u001B[38;5;21m_take_next_step\u001B[39m(\n\u001B[1;32m   1094\u001B[0m     \u001B[38;5;28mself\u001B[39m,\n\u001B[1;32m   1095\u001B[0m     name_to_tool_map: Dict[\u001B[38;5;28mstr\u001B[39m, BaseTool],\n\u001B[0;32m   (...)\u001B[0m\n\u001B[1;32m   1099\u001B[0m     run_manager: Optional[CallbackManagerForChainRun] \u001B[38;5;241m=\u001B[39m \u001B[38;5;28;01mNone\u001B[39;00m,\n\u001B[1;32m   1100\u001B[0m ) \u001B[38;5;241m-\u001B[39m\u001B[38;5;241m>\u001B[39m Union[AgentFinish, List[Tuple[AgentAction, \u001B[38;5;28mstr\u001B[39m]]]:\n\u001B[1;32m   1101\u001B[0m     \u001B[38;5;28;01mreturn\u001B[39;00m \u001B[38;5;28mself\u001B[39m\u001B[38;5;241m.\u001B[39m_consume_next_step(\n\u001B[0;32m-> 1102\u001B[0m         \u001B[43m[\u001B[49m\n\u001B[1;32m   1103\u001B[0m \u001B[43m            \u001B[49m\u001B[43ma\u001B[49m\n\u001B[1;32m   1104\u001B[0m \u001B[43m            \u001B[49m\u001B[38;5;28;43;01mfor\u001B[39;49;00m\u001B[43m \u001B[49m\u001B[43ma\u001B[49m\u001B[43m \u001B[49m\u001B[38;5;129;43;01min\u001B[39;49;00m\u001B[43m \u001B[49m\u001B[38;5;28;43mself\u001B[39;49m\u001B[38;5;241;43m.\u001B[39;49m\u001B[43m_iter_next_step\u001B[49m\u001B[43m(\u001B[49m\n\u001B[1;32m   1105\u001B[0m \u001B[43m                \u001B[49m\u001B[43mname_to_tool_map\u001B[49m\u001B[43m,\u001B[49m\n\u001B[1;32m   1106\u001B[0m \u001B[43m                \u001B[49m\u001B[43mcolor_mapping\u001B[49m\u001B[43m,\u001B[49m\n\u001B[1;32m   1107\u001B[0m \u001B[43m                \u001B[49m\u001B[43minputs\u001B[49m\u001B[43m,\u001B[49m\n\u001B[1;32m   1108\u001B[0m \u001B[43m                \u001B[49m\u001B[43mintermediate_steps\u001B[49m\u001B[43m,\u001B[49m\n\u001B[1;32m   1109\u001B[0m \u001B[43m                \u001B[49m\u001B[43mrun_manager\u001B[49m\u001B[43m,\u001B[49m\n\u001B[1;32m   1110\u001B[0m \u001B[43m            \u001B[49m\u001B[43m)\u001B[49m\n\u001B[1;32m   1111\u001B[0m \u001B[43m        \u001B[49m\u001B[43m]\u001B[49m\n\u001B[1;32m   1112\u001B[0m     )\n",
      "File \u001B[0;32m~/miniconda3/envs/backendenv/lib/python3.11/site-packages/langchain/agents/agent.py:1198\u001B[0m, in \u001B[0;36mAgentExecutor._iter_next_step\u001B[0;34m(self, name_to_tool_map, color_mapping, inputs, intermediate_steps, run_manager)\u001B[0m\n\u001B[1;32m   1196\u001B[0m         tool_run_kwargs[\u001B[38;5;124m\"\u001B[39m\u001B[38;5;124mllm_prefix\u001B[39m\u001B[38;5;124m\"\u001B[39m] \u001B[38;5;241m=\u001B[39m \u001B[38;5;124m\"\u001B[39m\u001B[38;5;124m\"\u001B[39m\n\u001B[1;32m   1197\u001B[0m     \u001B[38;5;66;03m# We then call the tool on the tool input to get an observation\u001B[39;00m\n\u001B[0;32m-> 1198\u001B[0m     observation \u001B[38;5;241m=\u001B[39m \u001B[43mtool\u001B[49m\u001B[38;5;241;43m.\u001B[39;49m\u001B[43mrun\u001B[49m\u001B[43m(\u001B[49m\n\u001B[1;32m   1199\u001B[0m \u001B[43m        \u001B[49m\u001B[43magent_action\u001B[49m\u001B[38;5;241;43m.\u001B[39;49m\u001B[43mtool_input\u001B[49m\u001B[43m,\u001B[49m\n\u001B[1;32m   1200\u001B[0m \u001B[43m        \u001B[49m\u001B[43mverbose\u001B[49m\u001B[38;5;241;43m=\u001B[39;49m\u001B[38;5;28;43mself\u001B[39;49m\u001B[38;5;241;43m.\u001B[39;49m\u001B[43mverbose\u001B[49m\u001B[43m,\u001B[49m\n\u001B[1;32m   1201\u001B[0m \u001B[43m        \u001B[49m\u001B[43mcolor\u001B[49m\u001B[38;5;241;43m=\u001B[39;49m\u001B[43mcolor\u001B[49m\u001B[43m,\u001B[49m\n\u001B[1;32m   1202\u001B[0m \u001B[43m        \u001B[49m\u001B[43mcallbacks\u001B[49m\u001B[38;5;241;43m=\u001B[39;49m\u001B[43mrun_manager\u001B[49m\u001B[38;5;241;43m.\u001B[39;49m\u001B[43mget_child\u001B[49m\u001B[43m(\u001B[49m\u001B[43m)\u001B[49m\u001B[43m \u001B[49m\u001B[38;5;28;43;01mif\u001B[39;49;00m\u001B[43m \u001B[49m\u001B[43mrun_manager\u001B[49m\u001B[43m \u001B[49m\u001B[38;5;28;43;01melse\u001B[39;49;00m\u001B[43m \u001B[49m\u001B[38;5;28;43;01mNone\u001B[39;49;00m\u001B[43m,\u001B[49m\n\u001B[1;32m   1203\u001B[0m \u001B[43m        \u001B[49m\u001B[38;5;241;43m*\u001B[39;49m\u001B[38;5;241;43m*\u001B[39;49m\u001B[43mtool_run_kwargs\u001B[49m\u001B[43m,\u001B[49m\n\u001B[1;32m   1204\u001B[0m \u001B[43m    \u001B[49m\u001B[43m)\u001B[49m\n\u001B[1;32m   1205\u001B[0m \u001B[38;5;28;01melse\u001B[39;00m:\n\u001B[1;32m   1206\u001B[0m     tool_run_kwargs \u001B[38;5;241m=\u001B[39m \u001B[38;5;28mself\u001B[39m\u001B[38;5;241m.\u001B[39magent\u001B[38;5;241m.\u001B[39mtool_run_logging_kwargs()\n",
      "File \u001B[0;32m~/miniconda3/envs/backendenv/lib/python3.11/site-packages/langchain_core/tools.py:369\u001B[0m, in \u001B[0;36mBaseTool.run\u001B[0;34m(self, tool_input, verbose, start_color, color, callbacks, tags, metadata, run_name, **kwargs)\u001B[0m\n\u001B[1;32m    367\u001B[0m \u001B[38;5;28;01mexcept\u001B[39;00m (\u001B[38;5;167;01mException\u001B[39;00m, \u001B[38;5;167;01mKeyboardInterrupt\u001B[39;00m) \u001B[38;5;28;01mas\u001B[39;00m e:\n\u001B[1;32m    368\u001B[0m     run_manager\u001B[38;5;241m.\u001B[39mon_tool_error(e)\n\u001B[0;32m--> 369\u001B[0m     \u001B[38;5;28;01mraise\u001B[39;00m e\n\u001B[1;32m    370\u001B[0m \u001B[38;5;28;01melse\u001B[39;00m:\n\u001B[1;32m    371\u001B[0m     run_manager\u001B[38;5;241m.\u001B[39mon_tool_end(\n\u001B[1;32m    372\u001B[0m         \u001B[38;5;28mstr\u001B[39m(observation), color\u001B[38;5;241m=\u001B[39mcolor, name\u001B[38;5;241m=\u001B[39m\u001B[38;5;28mself\u001B[39m\u001B[38;5;241m.\u001B[39mname, \u001B[38;5;241m*\u001B[39m\u001B[38;5;241m*\u001B[39mkwargs\n\u001B[1;32m    373\u001B[0m     )\n",
      "File \u001B[0;32m~/miniconda3/envs/backendenv/lib/python3.11/site-packages/langchain_core/tools.py:341\u001B[0m, in \u001B[0;36mBaseTool.run\u001B[0;34m(self, tool_input, verbose, start_color, color, callbacks, tags, metadata, run_name, **kwargs)\u001B[0m\n\u001B[1;32m    338\u001B[0m \u001B[38;5;28;01mtry\u001B[39;00m:\n\u001B[1;32m    339\u001B[0m     tool_args, tool_kwargs \u001B[38;5;241m=\u001B[39m \u001B[38;5;28mself\u001B[39m\u001B[38;5;241m.\u001B[39m_to_args_and_kwargs(parsed_input)\n\u001B[1;32m    340\u001B[0m     observation \u001B[38;5;241m=\u001B[39m (\n\u001B[0;32m--> 341\u001B[0m         \u001B[38;5;28;43mself\u001B[39;49m\u001B[38;5;241;43m.\u001B[39;49m\u001B[43m_run\u001B[49m\u001B[43m(\u001B[49m\u001B[38;5;241;43m*\u001B[39;49m\u001B[43mtool_args\u001B[49m\u001B[43m,\u001B[49m\u001B[43m \u001B[49m\u001B[43mrun_manager\u001B[49m\u001B[38;5;241;43m=\u001B[39;49m\u001B[43mrun_manager\u001B[49m\u001B[43m,\u001B[49m\u001B[43m \u001B[49m\u001B[38;5;241;43m*\u001B[39;49m\u001B[38;5;241;43m*\u001B[39;49m\u001B[43mtool_kwargs\u001B[49m\u001B[43m)\u001B[49m\n\u001B[1;32m    342\u001B[0m         \u001B[38;5;28;01mif\u001B[39;00m new_arg_supported\n\u001B[1;32m    343\u001B[0m         \u001B[38;5;28;01melse\u001B[39;00m \u001B[38;5;28mself\u001B[39m\u001B[38;5;241m.\u001B[39m_run(\u001B[38;5;241m*\u001B[39mtool_args, \u001B[38;5;241m*\u001B[39m\u001B[38;5;241m*\u001B[39mtool_kwargs)\n\u001B[1;32m    344\u001B[0m     )\n\u001B[1;32m    345\u001B[0m \u001B[38;5;28;01mexcept\u001B[39;00m ToolException \u001B[38;5;28;01mas\u001B[39;00m e:\n\u001B[1;32m    346\u001B[0m     \u001B[38;5;28;01mif\u001B[39;00m \u001B[38;5;129;01mnot\u001B[39;00m \u001B[38;5;28mself\u001B[39m\u001B[38;5;241m.\u001B[39mhandle_tool_error:\n",
      "File \u001B[0;32m~/miniconda3/envs/backendenv/lib/python3.11/site-packages/langchain_core/tools.py:518\u001B[0m, in \u001B[0;36mTool._run\u001B[0;34m(self, run_manager, *args, **kwargs)\u001B[0m\n\u001B[1;32m    509\u001B[0m \u001B[38;5;28;01mif\u001B[39;00m \u001B[38;5;28mself\u001B[39m\u001B[38;5;241m.\u001B[39mfunc:\n\u001B[1;32m    510\u001B[0m     new_argument_supported \u001B[38;5;241m=\u001B[39m signature(\u001B[38;5;28mself\u001B[39m\u001B[38;5;241m.\u001B[39mfunc)\u001B[38;5;241m.\u001B[39mparameters\u001B[38;5;241m.\u001B[39mget(\u001B[38;5;124m\"\u001B[39m\u001B[38;5;124mcallbacks\u001B[39m\u001B[38;5;124m\"\u001B[39m)\n\u001B[1;32m    511\u001B[0m     \u001B[38;5;28;01mreturn\u001B[39;00m (\n\u001B[1;32m    512\u001B[0m         \u001B[38;5;28mself\u001B[39m\u001B[38;5;241m.\u001B[39mfunc(\n\u001B[1;32m    513\u001B[0m             \u001B[38;5;241m*\u001B[39margs,\n\u001B[1;32m    514\u001B[0m             callbacks\u001B[38;5;241m=\u001B[39mrun_manager\u001B[38;5;241m.\u001B[39mget_child() \u001B[38;5;28;01mif\u001B[39;00m run_manager \u001B[38;5;28;01melse\u001B[39;00m \u001B[38;5;28;01mNone\u001B[39;00m,\n\u001B[1;32m    515\u001B[0m             \u001B[38;5;241m*\u001B[39m\u001B[38;5;241m*\u001B[39mkwargs,\n\u001B[1;32m    516\u001B[0m         )\n\u001B[1;32m    517\u001B[0m         \u001B[38;5;28;01mif\u001B[39;00m new_argument_supported\n\u001B[0;32m--> 518\u001B[0m         \u001B[38;5;28;01melse\u001B[39;00m \u001B[38;5;28;43mself\u001B[39;49m\u001B[38;5;241;43m.\u001B[39;49m\u001B[43mfunc\u001B[49m\u001B[43m(\u001B[49m\u001B[38;5;241;43m*\u001B[39;49m\u001B[43margs\u001B[49m\u001B[43m,\u001B[49m\u001B[43m \u001B[49m\u001B[38;5;241;43m*\u001B[39;49m\u001B[38;5;241;43m*\u001B[39;49m\u001B[43mkwargs\u001B[49m\u001B[43m)\u001B[49m\n\u001B[1;32m    519\u001B[0m     )\n\u001B[1;32m    520\u001B[0m \u001B[38;5;28;01mraise\u001B[39;00m \u001B[38;5;167;01mNotImplementedError\u001B[39;00m(\u001B[38;5;124m\"\u001B[39m\u001B[38;5;124mTool does not support sync\u001B[39m\u001B[38;5;124m\"\u001B[39m)\n",
      "File \u001B[0;32m~/miniconda3/envs/backendenv/lib/python3.11/site-packages/langchain_community/utilities/openweathermap.py:73\u001B[0m, in \u001B[0;36mOpenWeatherMapAPIWrapper.run\u001B[0;34m(self, location)\u001B[0m\n\u001B[1;32m     71\u001B[0m \u001B[38;5;250m\u001B[39m\u001B[38;5;124;03m\"\"\"Get the current weather information for a specified location.\"\"\"\u001B[39;00m\n\u001B[1;32m     72\u001B[0m mgr \u001B[38;5;241m=\u001B[39m \u001B[38;5;28mself\u001B[39m\u001B[38;5;241m.\u001B[39mowm\u001B[38;5;241m.\u001B[39mweather_manager()\n\u001B[0;32m---> 73\u001B[0m observation \u001B[38;5;241m=\u001B[39m \u001B[43mmgr\u001B[49m\u001B[38;5;241;43m.\u001B[39;49m\u001B[43mweather_at_place\u001B[49m\u001B[43m(\u001B[49m\u001B[43mlocation\u001B[49m\u001B[43m)\u001B[49m\n\u001B[1;32m     74\u001B[0m w \u001B[38;5;241m=\u001B[39m observation\u001B[38;5;241m.\u001B[39mweather\n\u001B[1;32m     76\u001B[0m \u001B[38;5;28;01mreturn\u001B[39;00m \u001B[38;5;28mself\u001B[39m\u001B[38;5;241m.\u001B[39m_format_weather_info(location, w)\n",
      "File \u001B[0;32m~/miniconda3/envs/backendenv/lib/python3.11/site-packages/pyowm/weatherapi25/weather_manager.py:53\u001B[0m, in \u001B[0;36mWeatherManager.weather_at_place\u001B[0;34m(self, name)\u001B[0m\n\u001B[1;32m     51\u001B[0m \u001B[38;5;28;01massert\u001B[39;00m \u001B[38;5;28misinstance\u001B[39m(name, \u001B[38;5;28mstr\u001B[39m), \u001B[38;5;124m\"\u001B[39m\u001B[38;5;124mValue must be a string\u001B[39m\u001B[38;5;124m\"\u001B[39m\n\u001B[1;32m     52\u001B[0m params \u001B[38;5;241m=\u001B[39m {\u001B[38;5;124m'\u001B[39m\u001B[38;5;124mq\u001B[39m\u001B[38;5;124m'\u001B[39m: name}\n\u001B[0;32m---> 53\u001B[0m _, json_data \u001B[38;5;241m=\u001B[39m \u001B[38;5;28;43mself\u001B[39;49m\u001B[38;5;241;43m.\u001B[39;49m\u001B[43mhttp_client\u001B[49m\u001B[38;5;241;43m.\u001B[39;49m\u001B[43mget_json\u001B[49m\u001B[43m(\u001B[49m\u001B[43mOBSERVATION_URI\u001B[49m\u001B[43m,\u001B[49m\u001B[43m \u001B[49m\u001B[43mparams\u001B[49m\u001B[38;5;241;43m=\u001B[39;49m\u001B[43mparams\u001B[49m\u001B[43m)\u001B[49m\n\u001B[1;32m     54\u001B[0m \u001B[38;5;28;01mreturn\u001B[39;00m observation\u001B[38;5;241m.\u001B[39mObservation\u001B[38;5;241m.\u001B[39mfrom_dict(json_data)\n",
      "File \u001B[0;32m~/miniconda3/envs/backendenv/lib/python3.11/site-packages/pyowm/commons/http_client.py:158\u001B[0m, in \u001B[0;36mHttpClient.get_json\u001B[0;34m(self, path, params, headers)\u001B[0m\n\u001B[1;32m    156\u001B[0m \u001B[38;5;28;01mexcept\u001B[39;00m requests\u001B[38;5;241m.\u001B[39mexceptions\u001B[38;5;241m.\u001B[39mTimeout:\n\u001B[1;32m    157\u001B[0m     \u001B[38;5;28;01mraise\u001B[39;00m exceptions\u001B[38;5;241m.\u001B[39mTimeoutError(\u001B[38;5;124m'\u001B[39m\u001B[38;5;124mAPI call timeouted\u001B[39m\u001B[38;5;124m'\u001B[39m)\n\u001B[0;32m--> 158\u001B[0m \u001B[43mHttpClient\u001B[49m\u001B[38;5;241;43m.\u001B[39;49m\u001B[43mcheck_status_code\u001B[49m\u001B[43m(\u001B[49m\u001B[43mresp\u001B[49m\u001B[38;5;241;43m.\u001B[39;49m\u001B[43mstatus_code\u001B[49m\u001B[43m,\u001B[49m\u001B[43m \u001B[49m\u001B[43mresp\u001B[49m\u001B[38;5;241;43m.\u001B[39;49m\u001B[43mtext\u001B[49m\u001B[43m)\u001B[49m\n\u001B[1;32m    159\u001B[0m \u001B[38;5;28;01mtry\u001B[39;00m:\n\u001B[1;32m    160\u001B[0m     \u001B[38;5;28;01mreturn\u001B[39;00m resp\u001B[38;5;241m.\u001B[39mstatus_code, resp\u001B[38;5;241m.\u001B[39mjson()\n",
      "File \u001B[0;32m~/miniconda3/envs/backendenv/lib/python3.11/site-packages/pyowm/commons/http_client.py:315\u001B[0m, in \u001B[0;36mHttpClient.check_status_code\u001B[0;34m(cls, status_code, payload)\u001B[0m\n\u001B[1;32m    313\u001B[0m     \u001B[38;5;28;01mraise\u001B[39;00m exceptions\u001B[38;5;241m.\u001B[39mUnauthorizedError(\u001B[38;5;124m'\u001B[39m\u001B[38;5;124mInvalid API Key provided\u001B[39m\u001B[38;5;124m'\u001B[39m)\n\u001B[1;32m    314\u001B[0m \u001B[38;5;28;01melif\u001B[39;00m status_code \u001B[38;5;241m==\u001B[39m \u001B[38;5;241m404\u001B[39m:\n\u001B[0;32m--> 315\u001B[0m     \u001B[38;5;28;01mraise\u001B[39;00m exceptions\u001B[38;5;241m.\u001B[39mNotFoundError(\u001B[38;5;124m'\u001B[39m\u001B[38;5;124mUnable to find the resource\u001B[39m\u001B[38;5;124m'\u001B[39m)\n\u001B[1;32m    316\u001B[0m \u001B[38;5;28;01melse\u001B[39;00m:\n\u001B[1;32m    317\u001B[0m     \u001B[38;5;28;01mraise\u001B[39;00m exceptions\u001B[38;5;241m.\u001B[39mBadGatewayError(\u001B[38;5;124m'\u001B[39m\u001B[38;5;124mUnable to contact the upstream server\u001B[39m\u001B[38;5;124m'\u001B[39m)\n",
      "\u001B[0;31mNotFoundError\u001B[0m: Unable to find the resource"
     ]
    }
   ],
   "source": [
    "agent_executor.invoke({\"input\": \"Ngày mai liệu có phù hợp để đi chơi ở Huế không ?\"})"
   ],
   "metadata": {
    "collapsed": false,
    "ExecuteTime": {
     "end_time": "2024-03-11T07:56:45.142766962Z",
     "start_time": "2024-03-11T07:56:42.849247415Z"
    }
   },
   "id": "74ddbcb51bd27e7d"
  },
  {
   "cell_type": "code",
   "execution_count": null,
   "outputs": [],
   "source": [
    "# import requests\n",
    "# \n",
    "# \n",
    "# def weather_search(location: str, search_type: str, date: str | None = None):\n",
    "#     response = requests.get(f\"https://api.openweathermap.org/data/3.0/onecall/day_summary?lat={lat}&lon={lon}&date={date}&appid={API key}\")\n",
    "#     print(response.json())"
   ],
   "metadata": {
    "collapsed": false
   },
   "id": "f68ce230d87e0a17"
  }
 ],
 "metadata": {
  "kernelspec": {
   "display_name": "Python 3",
   "language": "python",
   "name": "python3"
  },
  "language_info": {
   "codemirror_mode": {
    "name": "ipython",
    "version": 2
   },
   "file_extension": ".py",
   "mimetype": "text/x-python",
   "name": "python",
   "nbconvert_exporter": "python",
   "pygments_lexer": "ipython2",
   "version": "2.7.6"
  }
 },
 "nbformat": 4,
 "nbformat_minor": 5
}
