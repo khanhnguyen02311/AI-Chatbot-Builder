{
 "cells": [
  {
   "cell_type": "code",
   "execution_count": 1,
   "outputs": [
    {
     "data": {
      "text/plain": "True"
     },
     "execution_count": 1,
     "metadata": {},
     "output_type": "execute_result"
    }
   ],
   "source": [
    "import os\n",
    "import langchain\n",
    "from langchain_openai import ChatOpenAI\n",
    "from langchain.prompts import PromptTemplate\n",
    "from langchain.chains import LLMChain, ConversationChain\n",
    "from langchain.callbacks import get_openai_callback\n",
    "from langchain.memory import ConversationBufferWindowMemory, CombinedMemory, ConversationSummaryMemory, ChatMessageHistory\n",
    "from langchain import hub\n",
    "from langchain_core.messages.human import HumanMessage\n",
    "from langchain_core.messages.ai import AIMessage\n",
    "from langchain_community.utilities.google_search import GoogleSearchAPIWrapper\n",
    "from langchain_community.utilities.openweathermap import OpenWeatherMapAPIWrapper\n",
    "from langchain.agents import AgentExecutor, create_react_agent, Tool\n",
    "from os import environ\n",
    "from dotenv import load_dotenv\n",
    "\n",
    "load_dotenv(dotenv_path=f\"{os.path.abspath('')}/../../backend/.env.dev\", verbose=True)"
   ],
   "metadata": {
    "collapsed": false,
    "ExecuteTime": {
     "end_time": "2024-06-17T10:27:02.851715141Z",
     "start_time": "2024-06-17T10:27:01.213549847Z"
    }
   },
   "id": "5697870171b5fc7e"
  },
  {
   "cell_type": "code",
   "execution_count": 2,
   "outputs": [],
   "source": [
    "# parent class\n",
    "\n",
    "from abc import ABC, abstractmethod\n",
    "\n",
    "\n",
    "class Agent(ABC):\n",
    "    name = \"Default Agent\"\n",
    "\n",
    "    @abstractmethod\n",
    "    def load_prompt_template(self, *args, **kwargs):\n",
    "        print(\"Load prompt template method not implemented\")\n",
    "        raise NotImplementedError\n",
    "\n",
    "    @abstractmethod\n",
    "    def load_tools(self, tool_list):\n",
    "        print(\"Load tools method not implemented\")\n",
    "        raise NotImplementedError\n",
    "\n",
    "    @abstractmethod\n",
    "    def load_conversation(self, *args, **kwargs):\n",
    "        print(\"Load memory method not implemented\")\n",
    "        raise NotImplementedError\n",
    "\n",
    "    @abstractmethod\n",
    "    def load_model(self, *args, **kwargs):\n",
    "        print(\"Load model method not implemented\")\n",
    "        raise NotImplementedError\n",
    "\n",
    "    @abstractmethod\n",
    "    def generate_response(self, user_input):\n",
    "        print(\"Generate response method not implemented\")\n",
    "        raise NotImplementedError\n"
   ],
   "metadata": {
    "collapsed": false,
    "ExecuteTime": {
     "end_time": "2024-06-17T10:40:19.662604484Z",
     "start_time": "2024-06-17T10:40:19.625969858Z"
    }
   },
   "id": "66dd17bd07fa0d88"
  },
  {
   "cell_type": "code",
   "execution_count": 3,
   "outputs": [],
   "source": [
    "# tools\n",
    "\n",
    "from langchain.agents import Tool\n",
    "from langchain_google_community import GoogleSearchAPIWrapper\n",
    "from langchain_community.utilities.openweathermap import OpenWeatherMapAPIWrapper\n",
    "\n",
    "weather_search_util = OpenWeatherMapAPIWrapper(openweathermap_api_key=os.environ[\"OPENWEATHERMAP_API_KEY\"])\n",
    "google_search_util = GoogleSearchAPIWrapper(google_api_key=os.environ[\"GOOGLE_API_KEY\"], google_cse_id=os.environ[\"GOOGLE_CSE_ID\"], k=5)\n",
    "\n",
    "\n",
    "def get_search_google_tool():\n",
    "    return Tool(\n",
    "        name=\"search_google\",\n",
    "        description=\"Search Google using a query and get a list of results. Recommended to use the language related to the context of the conversation to get the best results.\",\n",
    "        func=google_search_util.run)\n",
    "\n",
    "\n",
    "def get_search_weather_tool():\n",
    "    return Tool(\n",
    "        name=\"search_weather\",\n",
    "        description=\"Get current weather information of specific location. The input format is 'City, Country'.\",\n",
    "        func=weather_search_util.run)\n",
    "\n"
   ],
   "metadata": {
    "collapsed": false,
    "ExecuteTime": {
     "end_time": "2024-06-17T10:43:27.923454682Z",
     "start_time": "2024-06-17T10:43:27.171859775Z"
    }
   },
   "id": "8e86525fc0bff5bd"
  },
  {
   "cell_type": "code",
   "execution_count": 4,
   "outputs": [],
   "source": [
    "from langchain_core.output_parsers.openai_functions import JsonOutputFunctionsParser\n",
    "from langchain_core.prompts import ChatPromptTemplate, MessagesPlaceholder\n",
    "\n",
    "members = [\"Researcher\", \"Planner\", \"Reply Agent\"]\n",
    "\n",
    "system_prompt = (\n",
    "    \"You are a supervisor tasked with managing a conversation between the\"\n",
    "    \" following workers:  {members}. Given the following user request,\"\n",
    "    \" respond with the worker to act next. Each worker will perform a\"\n",
    "    \" task and respond with their results and status. When finished,\"\n",
    "    \" respond with FINISH.\"\n",
    ")\n",
    "# Our team supervisor is an LLM node. It just picks the next agent to process\n",
    "# and decides when the work is completed\n",
    "options = [\"FINISH\"] + members\n",
    "# Using openai function calling can make output parsing easier for us\n",
    "function_def = {\n",
    "    \"name\": \"route\",\n",
    "    \"description\": \"Select the next role.\",\n",
    "    \"parameters\": {\n",
    "        \"title\": \"routeSchema\",\n",
    "        \"type\": \"object\",\n",
    "        \"properties\": {\n",
    "            \"next\": {\n",
    "                \"title\": \"Next\",\n",
    "                \"anyOf\": [\n",
    "                    {\"enum\": options},\n",
    "                ],\n",
    "            }\n",
    "        },\n",
    "        \"required\": [\"next\"],\n",
    "    },\n",
    "}\n",
    "prompt = ChatPromptTemplate.from_messages(\n",
    "    [\n",
    "        (\"system\", system_prompt),\n",
    "        MessagesPlaceholder(variable_name=\"messages\"),\n",
    "        (\n",
    "            \"system\",\n",
    "            \"Given the conversation above, who should act next?\"\n",
    "            \" Or should we FINISH? Select one of: {options}\",\n",
    "        ),\n",
    "    ]\n",
    ").partial(options=str(options), members=\", \".join(members))\n",
    "\n",
    "llm = ChatOpenAI(model=\"gpt-3.5-turbo-1106\")\n",
    "\n",
    "supervisor_chain = (\n",
    "        prompt\n",
    "        | llm.bind_functions(functions=[function_def], function_call=\"route\")\n",
    "        | JsonOutputFunctionsParser()\n",
    ")"
   ],
   "metadata": {
    "collapsed": false,
    "ExecuteTime": {
     "end_time": "2024-06-17T11:28:29.399519651Z",
     "start_time": "2024-06-17T11:28:29.337244393Z"
    }
   },
   "id": "83e5e6cde8759e8e"
  },
  {
   "cell_type": "code",
   "execution_count": null,
   "outputs": [],
   "source": [],
   "metadata": {
    "collapsed": false
   },
   "id": "5813517d055f7371"
  }
 ],
 "metadata": {
  "kernelspec": {
   "display_name": "Python 3",
   "language": "python",
   "name": "python3"
  },
  "language_info": {
   "codemirror_mode": {
    "name": "ipython",
    "version": 2
   },
   "file_extension": ".py",
   "mimetype": "text/x-python",
   "name": "python",
   "nbconvert_exporter": "python",
   "pygments_lexer": "ipython2",
   "version": "2.7.6"
  }
 },
 "nbformat": 4,
 "nbformat_minor": 5
}
