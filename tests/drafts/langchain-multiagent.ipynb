{
 "cells": [
  {
   "cell_type": "code",
   "execution_count": 1,
   "id": "5697870171b5fc7e",
   "metadata": {
    "ExecuteTime": {
     "end_time": "2024-06-17T10:27:02.851715141Z",
     "start_time": "2024-06-17T10:27:01.213549847Z"
    },
    "collapsed": false
   },
   "outputs": [
    {
     "data": {
      "text/plain": [
       "True"
      ]
     },
     "execution_count": 1,
     "metadata": {},
     "output_type": "execute_result"
    }
   ],
   "source": [
    "import os\n",
    "import langchain\n",
    "from langchain_openai import ChatOpenAI\n",
    "from langchain.prompts import PromptTemplate, ChatPromptTemplate, MessagesPlaceholder\n",
    "from langchain.callbacks import get_openai_callback\n",
    "from langchain_core.messages import BaseMessage, AIMessage, HumanMessage\n",
    "from langchain_core.output_parsers.openai_functions import JsonOutputFunctionsParser\n",
    "from langchain.agents import AgentExecutor, create_react_agent, create_openai_tools_agent, Tool, tool\n",
    "from langchain_google_community import GoogleSearchAPIWrapper\n",
    "from langchain_community.utilities.openweathermap import OpenWeatherMapAPIWrapper\n",
    "from langchain.document_loaders import WebBaseLoader\n",
    "from dotenv import load_dotenv\n",
    "\n",
    "load_dotenv(dotenv_path=f\"{os.path.abspath('')}/../../backend/.env.dev\", verbose=True)"
   ]
  },
  {
   "cell_type": "code",
   "execution_count": 2,
   "id": "8e86525fc0bff5bd",
   "metadata": {
    "ExecuteTime": {
     "end_time": "2024-06-17T10:43:27.923454682Z",
     "start_time": "2024-06-17T10:43:27.171859775Z"
    },
    "collapsed": false
   },
   "outputs": [],
   "source": [
    "# tools\n",
    "\n",
    "weather_search_util = OpenWeatherMapAPIWrapper(openweathermap_api_key=os.environ[\"OPENWEATHERMAP_API_KEY\"])\n",
    "google_search_util = GoogleSearchAPIWrapper(google_api_key=os.environ[\"GOOGLE_API_KEY\"], google_cse_id=os.environ[\"GOOGLE_CSE_ID\"], k=5)\n",
    "\n",
    "@tool\n",
    "def website_scrape_util(url: str) -> str:\n",
    "    \"\"\"Scrape the provided web page for detailed information.\"\"\"\n",
    "    try:\n",
    "        loader = WebBaseLoader(url)\n",
    "        docs = loader.load()\n",
    "        return \"\\n\\n\".join(\n",
    "            [f'<Document name=\"{doc.metadata.get(\"title\", \"\")}\">\\n{doc.page_content}\\n</Document>' for doc in docs]\n",
    "        )\n",
    "    except Exception as e:\n",
    "        return \"Error happened when using tool: \" + str(e) + \". You should check your input, it must be a valid URL.\"\n",
    "\n",
    "\n",
    "def get_search_google_tool():\n",
    "    return Tool(\n",
    "        name=\"search_google\",\n",
    "        description=\"Search Google using a query and get a list of results. Recommended to use the language related to the context of the conversation to get the best results.\",\n",
    "        func=google_search_util.run)\n",
    "\n",
    "\n",
    "def get_search_weather_tool():\n",
    "    return Tool(\n",
    "        name=\"search_weather\",\n",
    "        description=\"Get current weather information of specific location. The input format is 'City, Country'.\",\n",
    "        func=weather_search_util.run)\n",
    "\n",
    "\n",
    "def get_scrape_website_tool():\n",
    "    return Tool(\n",
    "        name=\"scrape_website\",\n",
    "        description=\"Scrape specific web page using an URL you provided for detailed information. You should use the search_google tool first, and then take the webpage URL you like to provide to this tool.\",\n",
    "        func=website_scrape_util,\n",
    "    )\n",
    "\n"
   ]
  },
  {
   "cell_type": "code",
   "execution_count": 3,
   "id": "453ece3e",
   "metadata": {},
   "outputs": [],
   "source": [
    "def create_agent(llm: ChatOpenAI, system_prompt: str, tools: list):\n",
    "    # Each worker node will be given a name and some tools.\n",
    "    prompt = ChatPromptTemplate.from_messages(\n",
    "        [\n",
    "            (\n",
    "                \"system\",\n",
    "                system_prompt,\n",
    "            ),\n",
    "            MessagesPlaceholder(variable_name=\"messages\"),\n",
    "            MessagesPlaceholder(variable_name=\"agent_scratchpad\"),\n",
    "        ]\n",
    "    )\n",
    "    agent = create_openai_tools_agent(llm, tools, prompt)\n",
    "    executor = AgentExecutor(agent=agent, tools=tools)\n",
    "    return executor"
   ]
  },
  {
   "cell_type": "code",
   "execution_count": 4,
   "id": "66ff0bc2",
   "metadata": {},
   "outputs": [],
   "source": [
    "llm = ChatOpenAI(model=\"gpt-3.5-turbo-0125\")\n",
    "\n",
    "research_agent = create_agent(llm, \"You are responsible for searching and validating data related to Vietnamese tourism, ensuring that the information provided is accurate and up-to-date. Whether the Human needs specific details about a destination, cultural insights, historical data, or statistical information, you are here to assist.\",\n",
    "                              [get_search_google_tool(), get_search_weather_tool(), get_scrape_website_tool()],)\n",
    "\n",
    "planning_agent = create_agent(llm, \"You are responsible for tasks related to planning tours, visits, food places, and other activities for tourists based on their preferences, duration of stay, location, and number of people. Assistant needs to create well-organized and thoughtful plans, taking into account the Human's preferences and any specific requirements. You can ask the Human for more info, or confirmations about your schedule.\", [get_search_google_tool(), get_search_weather_tool(), get_scrape_website_tool()]\n",
    ")\n",
    "\n",
    "reply_agent = create_agent(llm, \"You need to make a summary about every step the team is working on, who is the currently talking, and what they are talking about. You need to make every line in a format: <AGENT - CONTEXT - THEIR MESSAGES>\", [get_search_google_tool()])"
   ]
  },
  {
   "cell_type": "code",
   "execution_count": 5,
   "id": "83e5e6cde8759e8e",
   "metadata": {
    "ExecuteTime": {
     "end_time": "2024-06-17T11:28:29.399519651Z",
     "start_time": "2024-06-17T11:28:29.337244393Z"
    },
    "collapsed": false
   },
   "outputs": [],
   "source": [
    "members = [\"Researcher\", \"Planner\"]\n",
    "\n",
    "system_prompt = (\n",
    "    \"You are a supervisor tasked with managing a conversation with the Human, and between the\"\n",
    "    \" following workers: {members}. Given the following conversation history and the current user request,\"\n",
    "    \" respond with the worker to act next. Each worker will perform a\"\n",
    "    \" task and respond with their results and status. When finished or you need to ask the Human,\"\n",
    "    \" make the reply and respond with FINISH.\"\n",
    ")\n",
    "# Our team supervisor is an LLM node. It just picks the next agent to process\n",
    "# and decides when the work is completed\n",
    "options = [\"FINISH\"] + members\n",
    "# Using openai function calling can make output parsing easier for us\n",
    "function_def = {\n",
    "    \"name\": \"route\",\n",
    "    \"description\": \"Select the next role.\",\n",
    "    \"parameters\": {\n",
    "        \"title\": \"routeSchema\",\n",
    "        \"type\": \"object\",\n",
    "        \"properties\": {\n",
    "            \"next\": {\n",
    "                \"title\": \"Next\",\n",
    "                \"anyOf\": [\n",
    "                    {\"enum\": options},\n",
    "                ],\n",
    "            },\n",
    "        },\n",
    "        \"required\": [\"next\"],\n",
    "    },\n",
    "}\n",
    "prompt = ChatPromptTemplate.from_messages(\n",
    "    [\n",
    "        (\"system\", system_prompt),\n",
    "        MessagesPlaceholder(variable_name=\"messages\"),\n",
    "        (\n",
    "            \"system\",\n",
    "            \"Given the conversation above, who should act next?\"\n",
    "            \" Or should we FINISH? Select one of: {options}\",\n",
    "        ),\n",
    "    ]\n",
    ").partial(options=str(options), members=\", \".join(members))\n",
    "\n",
    "llm = ChatOpenAI(model=\"gpt-4o\")\n",
    "\n",
    "supervisor_chain = (\n",
    "        prompt\n",
    "        | llm.bind_functions(functions=[function_def], function_call=\"route\")\n",
    "        | JsonOutputFunctionsParser()\n",
    ")"
   ]
  },
  {
   "cell_type": "code",
   "execution_count": 6,
   "id": "5813517d055f7371",
   "metadata": {
    "collapsed": false
   },
   "outputs": [],
   "source": [
    "def agent_node(state, agent, name):\n",
    "    result = agent.invoke(state)\n",
    "    return {\"messages\": [AIMessage(content=result[\"output\"], name=name)]}"
   ]
  },
  {
   "cell_type": "code",
   "execution_count": 7,
   "id": "5b511a06",
   "metadata": {},
   "outputs": [],
   "source": [
    "import functools\n",
    "import operator\n",
    "from typing import Sequence, TypedDict, Annotated\n",
    "\n",
    "from langchain_core.prompts import ChatPromptTemplate, MessagesPlaceholder\n",
    "\n",
    "from langgraph.graph import END, StateGraph, START\n",
    "\n",
    "\n",
    "# The agent state is the input to each node in the graph\n",
    "class AgentState(TypedDict):\n",
    "    # The annotation tells the graph that new messages will always\n",
    "    # be added to the current states\n",
    "    messages: Annotated[Sequence[BaseMessage], operator.add]\n",
    "    # The 'next' field indicates where to route to next\n",
    "    next: str\n",
    "\n",
    "\n",
    "research_node = functools.partial(agent_node, agent=research_agent, name=\"Researcher\")\n",
    "planning_node = functools.partial(agent_node, agent=planning_agent, name=\"Planner\")\n",
    "reply_node = functools.partial(agent_node, agent=reply_agent, name=\"ReplyAgent\")\n",
    "\n",
    "\n",
    "workflow = StateGraph(AgentState)\n",
    "workflow.add_node(\"Researcher\", research_node)\n",
    "workflow.add_node(\"Planner\", planning_node)\n",
    "workflow.add_node(\"ReplyAgent\", reply_node)\n",
    "workflow.add_node(\"supervisor\", supervisor_chain)"
   ]
  },
  {
   "cell_type": "code",
   "execution_count": 8,
   "id": "8af20de0",
   "metadata": {},
   "outputs": [],
   "source": [
    "for member in members:\n",
    "    # We want our workers to ALWAYS \"report back\" to the supervisor when done\n",
    "    workflow.add_edge(member, \"supervisor\")\n",
    "# The supervisor populates the \"next\" field in the graph state\n",
    "# which routes to a node or finishes\n",
    "conditional_map = {k: k for k in members}\n",
    "conditional_map[\"FINISH\"] = \"ReplyAgent\"\n",
    "workflow.add_conditional_edges(\"supervisor\", lambda x: x[\"next\"], conditional_map)\n",
    "workflow.add_edge(\"ReplyAgent\", END)\n",
    "# Finally, add entrypoint\n",
    "workflow.add_edge(START, \"supervisor\")\n",
    "\n",
    "graph = workflow.compile()"
   ]
  },
  {
   "cell_type": "code",
   "execution_count": 12,
   "id": "bfe84a2c",
   "metadata": {},
   "outputs": [
    {
     "name": "stdout",
     "output_type": "stream",
     "text": [
      "\u001b[36;1m\u001b[1;3m[0:tasks]\u001b[0m \u001b[1mStarting step 0 with 1 task:\n",
      "\u001b[0m- \u001b[32;1m\u001b[1;3m__start__\u001b[0m -> {'messages': [HumanMessage(content='Bạn biết thời tiết hiện tại ở Đà nẵng là như nào không, và có những quán ăn nào ngon ở đấy không nhỉ ?')]}\n",
      "\u001b[36;1m\u001b[1;3m[0:writes]\u001b[0m \u001b[1mFinished step 0 with writes to 1 channel:\n",
      "\u001b[0m- \u001b[33;1m\u001b[1;3mmessages\u001b[0m -> [HumanMessage(content='Bạn biết thời tiết hiện tại ở Đà nẵng là như nào không, và có những quán ăn nào ngon ở đấy không nhỉ ?')]\n",
      "\u001b[36;1m\u001b[1;3m[1:tasks]\u001b[0m \u001b[1mStarting step 1 with 1 task:\n",
      "\u001b[0m- \u001b[32;1m\u001b[1;3msupervisor\u001b[0m -> {'messages': [HumanMessage(content='Bạn biết thời tiết hiện tại ở Đà nẵng là như nào không, và có những quán ăn nào ngon ở đấy không nhỉ ?')],\n",
      " 'next': None}\n",
      "{'supervisor': {'next': 'Researcher'}}\n",
      "<class 'langgraph.pregel.io.AddableUpdatesDict'>\n",
      "dict_keys(['supervisor'])\n",
      "----\n",
      "\u001b[36;1m\u001b[1;3m[1:writes]\u001b[0m \u001b[1mFinished step 1 with writes to 1 channel:\n",
      "\u001b[0m- \u001b[33;1m\u001b[1;3mnext\u001b[0m -> 'Researcher'\n",
      "\u001b[36;1m\u001b[1;3m[2:tasks]\u001b[0m \u001b[1mStarting step 2 with 1 task:\n",
      "\u001b[0m- \u001b[32;1m\u001b[1;3mResearcher\u001b[0m -> {'messages': [HumanMessage(content='Bạn biết thời tiết hiện tại ở Đà nẵng là như nào không, và có những quán ăn nào ngon ở đấy không nhỉ ?')],\n",
      " 'next': 'Researcher'}\n",
      "{'Researcher': {'messages': [AIMessage(content='- Thời tiết hiện tại ở Đà Nẵng, Việt Nam là như sau:\\n  - Tình trạng chi tiết: mưa nhẹ\\n  - Tốc độ gió: 2.06 m/s, hướng: 230°\\n  - Độ ẩm: 69%\\n  - Nhiệt độ:\\n    - Hiện tại: 27.99°C\\n    - Cao nhất: 27.99°C\\n    - Thấp nhất: 27.99°C\\n    - Cảm giác như: 30.52°C\\n  - Lượng mưa trong 1 giờ: 0.33mm\\n  - Chỉ số nhiệt: Không có\\n  - Mây che phủ: 20%\\n\\n- Một số quán ăn ngon ở Đà Nẵng:\\n  1. Cardi Pizzeria Bãi Rạng\\n  2. Bếp Quê Restaurant\\n  3. Pink Salt Restaurant\\n  4. Cá Chuồn Cỏ Vietnamese\\nBạn có thể thử những quán này khi đến Đà Nẵng.', name='Researcher')]}}\n",
      "<class 'langgraph.pregel.io.AddableUpdatesDict'>\n",
      "dict_keys(['Researcher'])\n",
      "----\n",
      "\u001b[36;1m\u001b[1;3m[2:writes]\u001b[0m \u001b[1mFinished step 2 with writes to 1 channel:\n",
      "\u001b[0m- \u001b[33;1m\u001b[1;3mmessages\u001b[0m -> [AIMessage(content='- Thời tiết hiện tại ở Đà Nẵng, Việt Nam là như sau:\\n  - Tình trạng chi tiết: mưa nhẹ\\n  - Tốc độ gió: 2.06 m/s, hướng: 230°\\n  - Độ ẩm: 69%\\n  - Nhiệt độ:\\n    - Hiện tại: 27.99°C\\n    - Cao nhất: 27.99°C\\n    - Thấp nhất: 27.99°C\\n    - Cảm giác như: 30.52°C\\n  - Lượng mưa trong 1 giờ: 0.33mm\\n  - Chỉ số nhiệt: Không có\\n  - Mây che phủ: 20%\\n\\n- Một số quán ăn ngon ở Đà Nẵng:\\n  1. Cardi Pizzeria Bãi Rạng\\n  2. Bếp Quê Restaurant\\n  3. Pink Salt Restaurant\\n  4. Cá Chuồn Cỏ Vietnamese\\nBạn có thể thử những quán này khi đến Đà Nẵng.', name='Researcher')]\n",
      "\u001b[36;1m\u001b[1;3m[3:tasks]\u001b[0m \u001b[1mStarting step 3 with 1 task:\n",
      "\u001b[0m- \u001b[32;1m\u001b[1;3msupervisor\u001b[0m -> {'messages': [HumanMessage(content='Bạn biết thời tiết hiện tại ở Đà nẵng là như nào không, và có những quán ăn nào ngon ở đấy không nhỉ ?'),\n",
      "              AIMessage(content='- Thời tiết hiện tại ở Đà Nẵng, Việt Nam là như sau:\\n  - Tình trạng chi tiết: mưa nhẹ\\n  - Tốc độ gió: 2.06 m/s, hướng: 230°\\n  - Độ ẩm: 69%\\n  - Nhiệt độ:\\n    - Hiện tại: 27.99°C\\n    - Cao nhất: 27.99°C\\n    - Thấp nhất: 27.99°C\\n    - Cảm giác như: 30.52°C\\n  - Lượng mưa trong 1 giờ: 0.33mm\\n  - Chỉ số nhiệt: Không có\\n  - Mây che phủ: 20%\\n\\n- Một số quán ăn ngon ở Đà Nẵng:\\n  1. Cardi Pizzeria Bãi Rạng\\n  2. Bếp Quê Restaurant\\n  3. Pink Salt Restaurant\\n  4. Cá Chuồn Cỏ Vietnamese\\nBạn có thể thử những quán này khi đến Đà Nẵng.', name='Researcher')],\n",
      " 'next': 'Researcher'}\n",
      "{'supervisor': {'next': 'FINISH'}}\n",
      "<class 'langgraph.pregel.io.AddableUpdatesDict'>\n",
      "dict_keys(['supervisor'])\n",
      "----\n",
      "\u001b[36;1m\u001b[1;3m[3:writes]\u001b[0m \u001b[1mFinished step 3 with writes to 1 channel:\n",
      "\u001b[0m- \u001b[33;1m\u001b[1;3mnext\u001b[0m -> 'FINISH'\n",
      "\u001b[36;1m\u001b[1;3m[4:tasks]\u001b[0m \u001b[1mStarting step 4 with 1 task:\n",
      "\u001b[0m- \u001b[32;1m\u001b[1;3mReplyAgent\u001b[0m -> {'messages': [HumanMessage(content='Bạn biết thời tiết hiện tại ở Đà nẵng là như nào không, và có những quán ăn nào ngon ở đấy không nhỉ ?'),\n",
      "              AIMessage(content='- Thời tiết hiện tại ở Đà Nẵng, Việt Nam là như sau:\\n  - Tình trạng chi tiết: mưa nhẹ\\n  - Tốc độ gió: 2.06 m/s, hướng: 230°\\n  - Độ ẩm: 69%\\n  - Nhiệt độ:\\n    - Hiện tại: 27.99°C\\n    - Cao nhất: 27.99°C\\n    - Thấp nhất: 27.99°C\\n    - Cảm giác như: 30.52°C\\n  - Lượng mưa trong 1 giờ: 0.33mm\\n  - Chỉ số nhiệt: Không có\\n  - Mây che phủ: 20%\\n\\n- Một số quán ăn ngon ở Đà Nẵng:\\n  1. Cardi Pizzeria Bãi Rạng\\n  2. Bếp Quê Restaurant\\n  3. Pink Salt Restaurant\\n  4. Cá Chuồn Cỏ Vietnamese\\nBạn có thể thử những quán này khi đến Đà Nẵng.', name='Researcher')],\n",
      " 'next': 'FINISH'}\n",
      "{'ReplyAgent': {'messages': [AIMessage(content='- Cardi Pizzeria Đà Nẵng:\\n  - Cardi Pizzeria Đà Nẵng chính là gói ý hàng đầu dành riêng cho bạn và những người thân yêu.\\n  - Địa chỉ: 76 Đường 2 Tháng 9, Quận Hải Châu, TP Đà Nẵng.\\n  - Thời gian mở cửa: 11:00 – 22:00.\\n  - Được xếp hạng 5.0 trên 5 trên Tripadvisor.\\n\\n- Bếp Quê Restaurant Đà Nẵng:\\n  - Địa chỉ: Lô A25 - 27 Đường 30 Tháng 4, Quận Hải Châu, Đà Nẵng.\\n  - Nhà hàng được xếp hạng 5.0 trên 5 trên Tripadvisor.\\n\\n- Pink Salt Restaurant Đà Nẵng:\\n  - Pink Salt Restaurant mang đến trải nghiệm ẩm thực tuyệt vời với nội thất tinh tế và món ăn phương Tây ngon.\\n  - Địa chỉ: Tra Son, Quang Nam-Da Nang, Vietnam.\\n  - Được xếp hạng 5.0 trên 5 trên Tripadvisor.\\n\\n- Cá Chuồn Cỏ Vietnamese Đà Nẵng:\\n  - Nhà hàng Cá Chuồn Cỏ nằm tại Premier Village Đà Nẵng.\\n  - Thực đơn hải sản tươi ngon với trải nghiệm ẩm thực biển độc đáo.\\n  - Menu đa dạng với món ăn ngon như Tôm hùm sốt bơ tươi, Tôm nướng, Gà Đá 3 món.', name='ReplyAgent')]}}\n",
      "<class 'langgraph.pregel.io.AddableUpdatesDict'>\n",
      "dict_keys(['ReplyAgent'])\n",
      "----\n",
      "\u001b[36;1m\u001b[1;3m[4:writes]\u001b[0m \u001b[1mFinished step 4 with writes to 1 channel:\n",
      "\u001b[0m- \u001b[33;1m\u001b[1;3mmessages\u001b[0m -> [AIMessage(content='- Cardi Pizzeria Đà Nẵng:\\n  - Cardi Pizzeria Đà Nẵng chính là gói ý hàng đầu dành riêng cho bạn và những người thân yêu.\\n  - Địa chỉ: 76 Đường 2 Tháng 9, Quận Hải Châu, TP Đà Nẵng.\\n  - Thời gian mở cửa: 11:00 – 22:00.\\n  - Được xếp hạng 5.0 trên 5 trên Tripadvisor.\\n\\n- Bếp Quê Restaurant Đà Nẵng:\\n  - Địa chỉ: Lô A25 - 27 Đường 30 Tháng 4, Quận Hải Châu, Đà Nẵng.\\n  - Nhà hàng được xếp hạng 5.0 trên 5 trên Tripadvisor.\\n\\n- Pink Salt Restaurant Đà Nẵng:\\n  - Pink Salt Restaurant mang đến trải nghiệm ẩm thực tuyệt vời với nội thất tinh tế và món ăn phương Tây ngon.\\n  - Địa chỉ: Tra Son, Quang Nam-Da Nang, Vietnam.\\n  - Được xếp hạng 5.0 trên 5 trên Tripadvisor.\\n\\n- Cá Chuồn Cỏ Vietnamese Đà Nẵng:\\n  - Nhà hàng Cá Chuồn Cỏ nằm tại Premier Village Đà Nẵng.\\n  - Thực đơn hải sản tươi ngon với trải nghiệm ẩm thực biển độc đáo.\\n  - Menu đa dạng với món ăn ngon như Tôm hùm sốt bơ tươi, Tôm nướng, Gà Đá 3 món.', name='ReplyAgent')]\n"
     ]
    }
   ],
   "source": [
    "for s in graph.stream(\n",
    "    {\n",
    "        \"messages\": [\n",
    "            HumanMessage(content=\"Bạn biết thời tiết hiện tại ở Đà nẵng là như nào không, và có những quán ăn nào ngon ở đấy không nhỉ ?\")\n",
    "        ]\n",
    "    }, debug=True\n",
    "):\n",
    "    if \"__end__\" not in s:\n",
    "        print(s)\n",
    "        print(type(s))\n",
    "        print(s.keys())\n",
    "        print(\"----\")"
   ]
  },
  {
   "cell_type": "code",
   "execution_count": null,
   "id": "406c9760",
   "metadata": {},
   "outputs": [],
   "source": []
  }
 ],
 "metadata": {
  "kernelspec": {
   "display_name": "Python 3",
   "language": "python",
   "name": "python3"
  },
  "language_info": {
   "codemirror_mode": {
    "name": "ipython",
    "version": 3
   },
   "file_extension": ".py",
   "mimetype": "text/x-python",
   "name": "python",
   "nbconvert_exporter": "python",
   "pygments_lexer": "ipython3",
   "version": "3.12.3"
  }
 },
 "nbformat": 4,
 "nbformat_minor": 5
}
