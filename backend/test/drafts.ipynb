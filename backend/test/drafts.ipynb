{
 "cells": [
  {
   "cell_type": "code",
   "execution_count": 1,
   "outputs": [
    {
     "data": {
      "text/plain": "'/home/knguyen02311/Datadisk_link/Programming/Python/AIBots'"
     },
     "execution_count": 1,
     "metadata": {},
     "output_type": "execute_result"
    }
   ],
   "source": [
    "import sys\n",
    "\n",
    "sys.path[1]"
   ],
   "metadata": {
    "collapsed": false,
    "ExecuteTime": {
     "end_time": "2024-01-29T06:06:36.522878880Z",
     "start_time": "2024-01-29T06:06:36.490369010Z"
    }
   },
   "id": "9d26de3c869f41f9"
  },
  {
   "cell_type": "code",
   "execution_count": 2,
   "outputs": [
    {
     "name": "stdout",
     "output_type": "stream",
     "text": [
      "localhost\n"
     ]
    }
   ],
   "source": [
    "from os import environ\n",
    "from dotenv import load_dotenv\n",
    "\n",
    "load_dotenv(dotenv_path='/home/knguyen02311/Datadisk_link/Programming/Python/AIBots/backend/.env.dev', verbose=True)\n",
    "print(environ.get(\"POSTGRES_HOST\"))\n",
    "\n",
    "\n",
    "class EnvPostgres:\n",
    "    HOST = environ.get(\"POSTGRES_HOST\")\n",
    "    DB = environ.get(\"POSTGRES_DB\")\n",
    "    USER = environ.get(\"POSTGRES_USER\")\n",
    "    PASSWORD = environ.get(\"POSTGRES_PASSWORD\")\n",
    "    PORT = int(environ.get(\"POSTGRES_PORT\"))\n",
    "    URL = f\"postgresql+psycopg2://{USER}:{PASSWORD}@{HOST}:{PORT}/{DB}?sslmode=disable\"\n",
    "\n",
    "\n",
    "class EnvRedis:\n",
    "    HOST = environ.get(\"REDIS_HOST\")\n",
    "    PORT = int(environ.get(\"REDIS_PORT\"))\n",
    "    PASSWORD = environ.get(\"REDIS_PASSWORD\")\n",
    "    DB = int(environ.get(\"REDIS_DB\"))\n",
    "\n",
    "\n",
    "class EnvSQLAlchemy:\n",
    "    ECHO = True\n",
    "    AUTO_FLUSH = True  # flush after committing\n",
    "    AUTO_COMMIT = False\n",
    "    POOL_SIZE = 15\n",
    "    MAX_OVERFLOW = 10\n",
    "    POOL_PRE_PING = False\n"
   ],
   "metadata": {
    "collapsed": false,
    "ExecuteTime": {
     "end_time": "2024-01-29T06:06:36.935006253Z",
     "start_time": "2024-01-29T06:06:36.490609455Z"
    }
   },
   "id": "1cd4d9f80ad8e9bf"
  },
  {
   "cell_type": "code",
   "execution_count": 3,
   "id": "initial_id",
   "metadata": {
    "collapsed": true,
    "ExecuteTime": {
     "end_time": "2024-01-29T06:06:37.544013598Z",
     "start_time": "2024-01-29T06:06:36.914584043Z"
    }
   },
   "outputs": [],
   "source": [
    "import redis\n",
    "from sqlalchemy import create_engine\n",
    "from sqlalchemy.orm import sessionmaker\n",
    "\n",
    "# For PostgresSQL\n",
    "POSTGRES_ENGINE = create_engine(url=EnvPostgres.URL,\n",
    "                                echo=EnvSQLAlchemy.ECHO,\n",
    "                                pool_size=EnvSQLAlchemy.POOL_SIZE,\n",
    "                                max_overflow=EnvSQLAlchemy.MAX_OVERFLOW,\n",
    "                                pool_pre_ping=EnvSQLAlchemy.POOL_PRE_PING)\n",
    "\n",
    "POSTGRES_SESSION_FACTORY = sessionmaker(bind=POSTGRES_ENGINE,\n",
    "                                        autoflush=EnvSQLAlchemy.AUTO_FLUSH,\n",
    "                                        autocommit=EnvSQLAlchemy.AUTO_COMMIT)"
   ]
  },
  {
   "cell_type": "code",
   "execution_count": 4,
   "outputs": [],
   "source": [
    "from datetime import datetime\n",
    "from typing import Annotated, Optional, List\n",
    "from sqlalchemy import ForeignKey, types, Table, Column, Integer\n",
    "from sqlalchemy.orm import Mapped, mapped_column, relationship, DeclarativeBase, MappedAsDataclass\n",
    "\n",
    "str64 = Annotated[str, None]\n",
    "str256 = Annotated[str, None]\n",
    "\n",
    "int_PK = Annotated[int, mapped_column(primary_key=True)]\n",
    "smallint = Annotated[int, None]\n",
    "timestamp = Annotated[datetime, mapped_column(default=datetime.utcnow)]\n",
    "\n",
    "\n",
    "class Base(DeclarativeBase):\n",
    "    type_annotation_map = {\n",
    "        str64: types.VARCHAR(64),\n",
    "        str256: types.VARCHAR(256),\n",
    "        smallint: types.SMALLINT,\n",
    "        timestamp: types.TIMESTAMP,\n",
    "    }\n",
    "\n",
    "\n",
    "class Test(Base):\n",
    "    __tablename__ = \"test\"\n",
    "    id: Mapped[int_PK]\n",
    "    name: Mapped[str64]\n"
   ],
   "metadata": {
    "collapsed": false,
    "ExecuteTime": {
     "end_time": "2024-01-29T06:06:37.685794183Z",
     "start_time": "2024-01-29T06:06:37.545143566Z"
    }
   },
   "id": "27579f7443ffde8"
  },
  {
   "cell_type": "code",
   "execution_count": 5,
   "outputs": [
    {
     "name": "stdout",
     "output_type": "stream",
     "text": [
      "2024-01-29 13:06:38,215 INFO sqlalchemy.engine.Engine select pg_catalog.version()\n",
      "2024-01-29 13:06:38,216 INFO sqlalchemy.engine.Engine [raw sql] {}\n",
      "2024-01-29 13:06:38,218 INFO sqlalchemy.engine.Engine select current_schema()\n",
      "2024-01-29 13:06:38,219 INFO sqlalchemy.engine.Engine [raw sql] {}\n",
      "2024-01-29 13:06:38,220 INFO sqlalchemy.engine.Engine show standard_conforming_strings\n",
      "2024-01-29 13:06:38,221 INFO sqlalchemy.engine.Engine [raw sql] {}\n",
      "2024-01-29 13:06:38,223 INFO sqlalchemy.engine.Engine BEGIN (implicit)\n",
      "2024-01-29 13:06:38,229 INFO sqlalchemy.engine.Engine SELECT pg_catalog.pg_class.relname \n",
      "FROM pg_catalog.pg_class JOIN pg_catalog.pg_namespace ON pg_catalog.pg_namespace.oid = pg_catalog.pg_class.relnamespace \n",
      "WHERE pg_catalog.pg_class.relname = %(table_name)s AND pg_catalog.pg_class.relkind = ANY (ARRAY[%(param_1)s, %(param_2)s, %(param_3)s, %(param_4)s, %(param_5)s]) AND pg_catalog.pg_table_is_visible(pg_catalog.pg_class.oid) AND pg_catalog.pg_namespace.nspname != %(nspname_1)s\n",
      "2024-01-29 13:06:38,230 INFO sqlalchemy.engine.Engine [generated in 0.00144s] {'table_name': 'test', 'param_1': 'r', 'param_2': 'p', 'param_3': 'f', 'param_4': 'v', 'param_5': 'm', 'nspname_1': 'pg_catalog'}\n",
      "2024-01-29 13:06:38,233 INFO sqlalchemy.engine.Engine COMMIT\n"
     ]
    }
   ],
   "source": [
    "Base.metadata.create_all(POSTGRES_ENGINE)"
   ],
   "metadata": {
    "collapsed": false,
    "ExecuteTime": {
     "end_time": "2024-01-29T06:06:38.245050176Z",
     "start_time": "2024-01-29T06:06:38.206363049Z"
    }
   },
   "id": "c5ba10afe425227b"
  },
  {
   "cell_type": "code",
   "execution_count": 6,
   "outputs": [
    {
     "name": "stdout",
     "output_type": "stream",
     "text": [
      "2024-01-29 13:06:40,481 INFO sqlalchemy.engine.Engine BEGIN (implicit)\n",
      "2024-01-29 13:06:40,484 INFO sqlalchemy.engine.Engine INSERT INTO test (name) VALUES (%(name)s) RETURNING test.id\n",
      "2024-01-29 13:06:40,485 INFO sqlalchemy.engine.Engine [generated in 0.00118s] {'name': 'test'}\n",
      "2024-01-29 13:06:40,487 INFO sqlalchemy.engine.Engine COMMIT\n",
      "2024-01-29 13:06:40,559 INFO sqlalchemy.engine.Engine BEGIN (implicit)\n",
      "2024-01-29 13:06:40,562 INFO sqlalchemy.engine.Engine SELECT test.id AS test_id, test.name AS test_name \n",
      "FROM test \n",
      "WHERE test.id = %(pk_1)s\n",
      "2024-01-29 13:06:40,562 INFO sqlalchemy.engine.Engine [generated in 0.00070s] {'pk_1': 2}\n",
      "2\n",
      "2024-01-29 13:06:40,564 INFO sqlalchemy.engine.Engine ROLLBACK\n"
     ]
    }
   ],
   "source": [
    "with POSTGRES_SESSION_FACTORY() as session:\n",
    "    test = Test(name=\"test\")\n",
    "    session.add(test)\n",
    "    session.commit()\n",
    "    print(test.id)"
   ],
   "metadata": {
    "collapsed": false,
    "ExecuteTime": {
     "end_time": "2024-01-29T06:06:40.573440015Z",
     "start_time": "2024-01-29T06:06:40.483328641Z"
    }
   },
   "id": "b7e364ea9b3dd3c7"
  },
  {
   "cell_type": "code",
   "execution_count": 11,
   "outputs": [
    {
     "name": "stdout",
     "output_type": "stream",
     "text": [
      "2024-01-29 13:07:05,088 INFO sqlalchemy.engine.Engine BEGIN (implicit)\n",
      "2024-01-29 13:07:05,089 INFO sqlalchemy.engine.Engine UPDATE test SET name=%(name)s WHERE test.id = %(id_1)s RETURNING test.id, test.name\n",
      "2024-01-29 13:07:05,090 INFO sqlalchemy.engine.Engine [cached since 20.84s ago] {'name': 'test2', 'id_1': 1}\n",
      "2024-01-29 13:07:05,093 INFO sqlalchemy.engine.Engine COMMIT\n",
      "<__main__.Test object at 0x7f44913fde90>\n"
     ]
    }
   ],
   "source": [
    "from sqlalchemy import select, update, delete\n",
    "\n",
    "with POSTGRES_SESSION_FACTORY() as session:\n",
    "    updatequery = update(Test).returning(Test).where(Test.id == 1).values(name=\"test2\")\n",
    "    result = session.scalar(updatequery)\n",
    "    session.commit()\n",
    "    print(result)"
   ],
   "metadata": {
    "collapsed": false,
    "ExecuteTime": {
     "end_time": "2024-01-29T06:07:05.231670860Z",
     "start_time": "2024-01-29T06:07:05.090130784Z"
    }
   },
   "id": "8732a6e099412721"
  },
  {
   "cell_type": "code",
   "execution_count": 12,
   "outputs": [
    {
     "ename": "NoInspectionAvailable",
     "evalue": "No inspection system is available for object of type <class 'str'>",
     "output_type": "error",
     "traceback": [
      "\u001B[0;31m---------------------------------------------------------------------------\u001B[0m",
      "\u001B[0;31mNoInspectionAvailable\u001B[0m                     Traceback (most recent call last)",
      "Cell \u001B[0;32mIn[12], line 2\u001B[0m\n\u001B[1;32m      1\u001B[0m \u001B[38;5;28;01mwith\u001B[39;00m POSTGRES_SESSION_FACTORY() \u001B[38;5;28;01mas\u001B[39;00m session:\n\u001B[0;32m----> 2\u001B[0m     \u001B[43msession\u001B[49m\u001B[38;5;241;43m.\u001B[39;49m\u001B[43mget\u001B[49m\u001B[43m(\u001B[49m\u001B[38;5;124;43m\"\u001B[39;49m\u001B[38;5;124;43mAccount\u001B[39;49m\u001B[38;5;124;43m\"\u001B[39;49m\u001B[43m,\u001B[49m\u001B[43m \u001B[49m\u001B[38;5;241;43m1\u001B[39;49m\u001B[43m)\u001B[49m\n",
      "File \u001B[0;32m~/miniconda3/envs/backendenv/lib/python3.11/site-packages/sqlalchemy/orm/session.py:3653\u001B[0m, in \u001B[0;36mSession.get\u001B[0;34m(self, entity, ident, options, populate_existing, with_for_update, identity_token, execution_options, bind_arguments)\u001B[0m\n\u001B[1;32m   3539\u001B[0m \u001B[38;5;28;01mdef\u001B[39;00m \u001B[38;5;21mget\u001B[39m(\n\u001B[1;32m   3540\u001B[0m     \u001B[38;5;28mself\u001B[39m,\n\u001B[1;32m   3541\u001B[0m     entity: _EntityBindKey[_O],\n\u001B[0;32m   (...)\u001B[0m\n\u001B[1;32m   3549\u001B[0m     bind_arguments: Optional[_BindArguments] \u001B[38;5;241m=\u001B[39m \u001B[38;5;28;01mNone\u001B[39;00m,\n\u001B[1;32m   3550\u001B[0m ) \u001B[38;5;241m-\u001B[39m\u001B[38;5;241m>\u001B[39m Optional[_O]:\n\u001B[1;32m   3551\u001B[0m \u001B[38;5;250m    \u001B[39m\u001B[38;5;124;03m\"\"\"Return an instance based on the given primary key identifier,\u001B[39;00m\n\u001B[1;32m   3552\u001B[0m \u001B[38;5;124;03m    or ``None`` if not found.\u001B[39;00m\n\u001B[1;32m   3553\u001B[0m \n\u001B[0;32m   (...)\u001B[0m\n\u001B[1;32m   3651\u001B[0m \n\u001B[1;32m   3652\u001B[0m \u001B[38;5;124;03m    \"\"\"\u001B[39;00m\n\u001B[0;32m-> 3653\u001B[0m     \u001B[38;5;28;01mreturn\u001B[39;00m \u001B[38;5;28;43mself\u001B[39;49m\u001B[38;5;241;43m.\u001B[39;49m\u001B[43m_get_impl\u001B[49m\u001B[43m(\u001B[49m\n\u001B[1;32m   3654\u001B[0m \u001B[43m        \u001B[49m\u001B[43mentity\u001B[49m\u001B[43m,\u001B[49m\n\u001B[1;32m   3655\u001B[0m \u001B[43m        \u001B[49m\u001B[43mident\u001B[49m\u001B[43m,\u001B[49m\n\u001B[1;32m   3656\u001B[0m \u001B[43m        \u001B[49m\u001B[43mloading\u001B[49m\u001B[38;5;241;43m.\u001B[39;49m\u001B[43mload_on_pk_identity\u001B[49m\u001B[43m,\u001B[49m\n\u001B[1;32m   3657\u001B[0m \u001B[43m        \u001B[49m\u001B[43moptions\u001B[49m\u001B[38;5;241;43m=\u001B[39;49m\u001B[43moptions\u001B[49m\u001B[43m,\u001B[49m\n\u001B[1;32m   3658\u001B[0m \u001B[43m        \u001B[49m\u001B[43mpopulate_existing\u001B[49m\u001B[38;5;241;43m=\u001B[39;49m\u001B[43mpopulate_existing\u001B[49m\u001B[43m,\u001B[49m\n\u001B[1;32m   3659\u001B[0m \u001B[43m        \u001B[49m\u001B[43mwith_for_update\u001B[49m\u001B[38;5;241;43m=\u001B[39;49m\u001B[43mwith_for_update\u001B[49m\u001B[43m,\u001B[49m\n\u001B[1;32m   3660\u001B[0m \u001B[43m        \u001B[49m\u001B[43midentity_token\u001B[49m\u001B[38;5;241;43m=\u001B[39;49m\u001B[43midentity_token\u001B[49m\u001B[43m,\u001B[49m\n\u001B[1;32m   3661\u001B[0m \u001B[43m        \u001B[49m\u001B[43mexecution_options\u001B[49m\u001B[38;5;241;43m=\u001B[39;49m\u001B[43mexecution_options\u001B[49m\u001B[43m,\u001B[49m\n\u001B[1;32m   3662\u001B[0m \u001B[43m        \u001B[49m\u001B[43mbind_arguments\u001B[49m\u001B[38;5;241;43m=\u001B[39;49m\u001B[43mbind_arguments\u001B[49m\u001B[43m,\u001B[49m\n\u001B[1;32m   3663\u001B[0m \u001B[43m    \u001B[49m\u001B[43m)\u001B[49m\n",
      "File \u001B[0;32m~/miniconda3/envs/backendenv/lib/python3.11/site-packages/sqlalchemy/orm/session.py:3740\u001B[0m, in \u001B[0;36mSession._get_impl\u001B[0;34m(self, entity, primary_key_identity, db_load_fn, options, populate_existing, with_for_update, identity_token, execution_options, bind_arguments)\u001B[0m\n\u001B[1;32m   3735\u001B[0m     getter \u001B[38;5;241m=\u001B[39m descriptor_props\u001B[38;5;241m.\u001B[39m_composite_getters[\n\u001B[1;32m   3736\u001B[0m         \u001B[38;5;28mtype\u001B[39m(primary_key_identity)\n\u001B[1;32m   3737\u001B[0m     ]\n\u001B[1;32m   3738\u001B[0m     primary_key_identity \u001B[38;5;241m=\u001B[39m getter(primary_key_identity)\n\u001B[0;32m-> 3740\u001B[0m mapper: Optional[Mapper[_O]] \u001B[38;5;241m=\u001B[39m \u001B[43minspect\u001B[49m\u001B[43m(\u001B[49m\u001B[43mentity\u001B[49m\u001B[43m)\u001B[49m\n\u001B[1;32m   3742\u001B[0m \u001B[38;5;28;01mif\u001B[39;00m mapper \u001B[38;5;129;01mis\u001B[39;00m \u001B[38;5;28;01mNone\u001B[39;00m \u001B[38;5;129;01mor\u001B[39;00m \u001B[38;5;129;01mnot\u001B[39;00m mapper\u001B[38;5;241m.\u001B[39mis_mapper:\n\u001B[1;32m   3743\u001B[0m     \u001B[38;5;28;01mraise\u001B[39;00m sa_exc\u001B[38;5;241m.\u001B[39mArgumentError(\n\u001B[1;32m   3744\u001B[0m         \u001B[38;5;124m\"\u001B[39m\u001B[38;5;124mExpected mapped class or mapper, got: \u001B[39m\u001B[38;5;132;01m%r\u001B[39;00m\u001B[38;5;124m\"\u001B[39m \u001B[38;5;241m%\u001B[39m entity\n\u001B[1;32m   3745\u001B[0m     )\n",
      "File \u001B[0;32m~/miniconda3/envs/backendenv/lib/python3.11/site-packages/sqlalchemy/inspection.py:152\u001B[0m, in \u001B[0;36minspect\u001B[0;34m(subject, raiseerr)\u001B[0m\n\u001B[1;32m    149\u001B[0m     reg \u001B[38;5;241m=\u001B[39m ret \u001B[38;5;241m=\u001B[39m \u001B[38;5;28;01mNone\u001B[39;00m\n\u001B[1;32m    151\u001B[0m \u001B[38;5;28;01mif\u001B[39;00m raiseerr \u001B[38;5;129;01mand\u001B[39;00m (reg \u001B[38;5;129;01mis\u001B[39;00m \u001B[38;5;28;01mNone\u001B[39;00m \u001B[38;5;129;01mor\u001B[39;00m ret \u001B[38;5;129;01mis\u001B[39;00m \u001B[38;5;28;01mNone\u001B[39;00m):\n\u001B[0;32m--> 152\u001B[0m     \u001B[38;5;28;01mraise\u001B[39;00m exc\u001B[38;5;241m.\u001B[39mNoInspectionAvailable(\n\u001B[1;32m    153\u001B[0m         \u001B[38;5;124m\"\u001B[39m\u001B[38;5;124mNo inspection system is \u001B[39m\u001B[38;5;124m\"\u001B[39m\n\u001B[1;32m    154\u001B[0m         \u001B[38;5;124m\"\u001B[39m\u001B[38;5;124mavailable for object of type \u001B[39m\u001B[38;5;132;01m%s\u001B[39;00m\u001B[38;5;124m\"\u001B[39m \u001B[38;5;241m%\u001B[39m type_\n\u001B[1;32m    155\u001B[0m     )\n\u001B[1;32m    156\u001B[0m \u001B[38;5;28;01mreturn\u001B[39;00m ret\n",
      "\u001B[0;31mNoInspectionAvailable\u001B[0m: No inspection system is available for object of type <class 'str'>"
     ]
    }
   ],
   "source": [
    "with POSTGRES_SESSION_FACTORY() as session:\n",
    "    session."
   ],
   "metadata": {
    "collapsed": false,
    "ExecuteTime": {
     "end_time": "2024-01-29T07:44:42.535315811Z",
     "start_time": "2024-01-29T07:44:42.327032300Z"
    }
   },
   "id": "bea732e25055078e"
  },
  {
   "cell_type": "code",
   "execution_count": null,
   "outputs": [],
   "source": [],
   "metadata": {
    "collapsed": false
   },
   "id": "f19f150854014d1"
  }
 ],
 "metadata": {
  "kernelspec": {
   "display_name": "Python 3",
   "language": "python",
   "name": "python3"
  },
  "language_info": {
   "codemirror_mode": {
    "name": "ipython",
    "version": 2
   },
   "file_extension": ".py",
   "mimetype": "text/x-python",
   "name": "python",
   "nbconvert_exporter": "python",
   "pygments_lexer": "ipython2",
   "version": "2.7.6"
  }
 },
 "nbformat": 4,
 "nbformat_minor": 5
}
